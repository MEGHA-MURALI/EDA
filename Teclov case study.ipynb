{
 "cells": [
  {
   "cell_type": "code",
   "execution_count": 1,
   "metadata": {},
   "outputs": [],
   "source": [
    "#PROBLEM 1 DATA CLEANING\n",
    "#2.how many unique companies are present in companies?\n",
    "import pandas as pd\n",
    "import numpy as np\n",
    "companies=pd.read_csv('companies.txt',sep='\\t',encoding='ansi')"
   ]
  },
  {
   "cell_type": "code",
   "execution_count": 2,
   "metadata": {},
   "outputs": [
    {
     "data": {
      "text/html": [
       "<div>\n",
       "<style scoped>\n",
       "    .dataframe tbody tr th:only-of-type {\n",
       "        vertical-align: middle;\n",
       "    }\n",
       "\n",
       "    .dataframe tbody tr th {\n",
       "        vertical-align: top;\n",
       "    }\n",
       "\n",
       "    .dataframe thead th {\n",
       "        text-align: right;\n",
       "    }\n",
       "</style>\n",
       "<table border=\"1\" class=\"dataframe\">\n",
       "  <thead>\n",
       "    <tr style=\"text-align: right;\">\n",
       "      <th></th>\n",
       "      <th>permalink</th>\n",
       "      <th>name</th>\n",
       "      <th>homepage_url</th>\n",
       "      <th>category_list</th>\n",
       "      <th>status</th>\n",
       "      <th>country_code</th>\n",
       "      <th>state_code</th>\n",
       "      <th>region</th>\n",
       "      <th>city</th>\n",
       "      <th>founded_at</th>\n",
       "    </tr>\n",
       "  </thead>\n",
       "  <tbody>\n",
       "    <tr>\n",
       "      <th>0</th>\n",
       "      <td>/Organization/-Fame</td>\n",
       "      <td>#fame</td>\n",
       "      <td>http://livfame.com</td>\n",
       "      <td>Media</td>\n",
       "      <td>operating</td>\n",
       "      <td>IND</td>\n",
       "      <td>16</td>\n",
       "      <td>Mumbai</td>\n",
       "      <td>Mumbai</td>\n",
       "      <td>NaN</td>\n",
       "    </tr>\n",
       "    <tr>\n",
       "      <th>1</th>\n",
       "      <td>/Organization/-Qounter</td>\n",
       "      <td>:Qounter</td>\n",
       "      <td>http://www.qounter.com</td>\n",
       "      <td>Application Platforms|Real Time|Social Network...</td>\n",
       "      <td>operating</td>\n",
       "      <td>USA</td>\n",
       "      <td>DE</td>\n",
       "      <td>DE - Other</td>\n",
       "      <td>Delaware City</td>\n",
       "      <td>04-09-2014</td>\n",
       "    </tr>\n",
       "  </tbody>\n",
       "</table>\n",
       "</div>"
      ],
      "text/plain": [
       "                permalink      name            homepage_url  \\\n",
       "0     /Organization/-Fame     #fame      http://livfame.com   \n",
       "1  /Organization/-Qounter  :Qounter  http://www.qounter.com   \n",
       "\n",
       "                                       category_list     status country_code  \\\n",
       "0                                              Media  operating          IND   \n",
       "1  Application Platforms|Real Time|Social Network...  operating          USA   \n",
       "\n",
       "  state_code      region           city  founded_at  \n",
       "0         16      Mumbai         Mumbai         NaN  \n",
       "1         DE  DE - Other  Delaware City  04-09-2014  "
      ]
     },
     "execution_count": 2,
     "metadata": {},
     "output_type": "execute_result"
    }
   ],
   "source": [
    "companies.head(2)"
   ]
  },
  {
   "cell_type": "code",
   "execution_count": 3,
   "metadata": {},
   "outputs": [
    {
     "data": {
      "text/plain": [
       "(66368, 10)"
      ]
     },
     "execution_count": 3,
     "metadata": {},
     "output_type": "execute_result"
    }
   ],
   "source": [
    "companies.shape"
   ]
  },
  {
   "cell_type": "code",
   "execution_count": 4,
   "metadata": {},
   "outputs": [
    {
     "data": {
      "text/plain": [
       "Index(['permalink', 'name', 'homepage_url', 'category_list', 'status',\n",
       "       'country_code', 'state_code', 'region', 'city', 'founded_at'],\n",
       "      dtype='object')"
      ]
     },
     "execution_count": 4,
     "metadata": {},
     "output_type": "execute_result"
    }
   ],
   "source": [
    "companies.columns"
   ]
  },
  {
   "cell_type": "code",
   "execution_count": 5,
   "metadata": {},
   "outputs": [
    {
     "data": {
      "text/plain": [
       "/Organization/Educreations               1\n",
       "/Organization/Micro-Power-Electronics    1\n",
       "/Organization/Atlis                      1\n",
       "/Organization/Vocaldata                  1\n",
       "/Organization/Scratch-Music-Group        1\n",
       "                                        ..\n",
       "/Organization/Lionical                   1\n",
       "/Organization/Browsa                     1\n",
       "/Organization/Parchment                  1\n",
       "/Organization/Advanced-Power-Projects    1\n",
       "/Organization/Bizeebee                   1\n",
       "Name: permalink, Length: 66368, dtype: int64"
      ]
     },
     "execution_count": 5,
     "metadata": {},
     "output_type": "execute_result"
    }
   ],
   "source": [
    "companies['permalink'].value_counts()"
   ]
  },
  {
   "cell_type": "code",
   "execution_count": 6,
   "metadata": {},
   "outputs": [],
   "source": [
    "companyname=[]\n",
    "for i in companies['permalink']:\n",
    "    companyname.append(i.split('/')[2].lower())"
   ]
  },
  {
   "cell_type": "code",
   "execution_count": 7,
   "metadata": {},
   "outputs": [
    {
     "data": {
      "text/html": [
       "<div>\n",
       "<style scoped>\n",
       "    .dataframe tbody tr th:only-of-type {\n",
       "        vertical-align: middle;\n",
       "    }\n",
       "\n",
       "    .dataframe tbody tr th {\n",
       "        vertical-align: top;\n",
       "    }\n",
       "\n",
       "    .dataframe thead th {\n",
       "        text-align: right;\n",
       "    }\n",
       "</style>\n",
       "<table border=\"1\" class=\"dataframe\">\n",
       "  <thead>\n",
       "    <tr style=\"text-align: right;\">\n",
       "      <th></th>\n",
       "      <th>permalink</th>\n",
       "      <th>name</th>\n",
       "      <th>homepage_url</th>\n",
       "      <th>category_list</th>\n",
       "      <th>status</th>\n",
       "      <th>country_code</th>\n",
       "      <th>state_code</th>\n",
       "      <th>region</th>\n",
       "      <th>city</th>\n",
       "      <th>founded_at</th>\n",
       "      <th>companyname</th>\n",
       "    </tr>\n",
       "  </thead>\n",
       "  <tbody>\n",
       "    <tr>\n",
       "      <th>0</th>\n",
       "      <td>/Organization/-Fame</td>\n",
       "      <td>#fame</td>\n",
       "      <td>http://livfame.com</td>\n",
       "      <td>Media</td>\n",
       "      <td>operating</td>\n",
       "      <td>IND</td>\n",
       "      <td>16</td>\n",
       "      <td>Mumbai</td>\n",
       "      <td>Mumbai</td>\n",
       "      <td>NaN</td>\n",
       "      <td>-fame</td>\n",
       "    </tr>\n",
       "    <tr>\n",
       "      <th>1</th>\n",
       "      <td>/Organization/-Qounter</td>\n",
       "      <td>:Qounter</td>\n",
       "      <td>http://www.qounter.com</td>\n",
       "      <td>Application Platforms|Real Time|Social Network...</td>\n",
       "      <td>operating</td>\n",
       "      <td>USA</td>\n",
       "      <td>DE</td>\n",
       "      <td>DE - Other</td>\n",
       "      <td>Delaware City</td>\n",
       "      <td>04-09-2014</td>\n",
       "      <td>-qounter</td>\n",
       "    </tr>\n",
       "  </tbody>\n",
       "</table>\n",
       "</div>"
      ],
      "text/plain": [
       "                permalink      name            homepage_url  \\\n",
       "0     /Organization/-Fame     #fame      http://livfame.com   \n",
       "1  /Organization/-Qounter  :Qounter  http://www.qounter.com   \n",
       "\n",
       "                                       category_list     status country_code  \\\n",
       "0                                              Media  operating          IND   \n",
       "1  Application Platforms|Real Time|Social Network...  operating          USA   \n",
       "\n",
       "  state_code      region           city  founded_at companyname  \n",
       "0         16      Mumbai         Mumbai         NaN       -fame  \n",
       "1         DE  DE - Other  Delaware City  04-09-2014    -qounter  "
      ]
     },
     "execution_count": 7,
     "metadata": {},
     "output_type": "execute_result"
    }
   ],
   "source": [
    "companies['companyname']=companyname\n",
    "companies.head(2)"
   ]
  },
  {
   "cell_type": "code",
   "execution_count": 8,
   "metadata": {},
   "outputs": [
    {
     "data": {
      "text/html": [
       "<div>\n",
       "<style scoped>\n",
       "    .dataframe tbody tr th:only-of-type {\n",
       "        vertical-align: middle;\n",
       "    }\n",
       "\n",
       "    .dataframe tbody tr th {\n",
       "        vertical-align: top;\n",
       "    }\n",
       "\n",
       "    .dataframe thead th {\n",
       "        text-align: right;\n",
       "    }\n",
       "</style>\n",
       "<table border=\"1\" class=\"dataframe\">\n",
       "  <thead>\n",
       "    <tr style=\"text-align: right;\">\n",
       "      <th></th>\n",
       "      <th>permalink</th>\n",
       "      <th>name</th>\n",
       "      <th>homepage_url</th>\n",
       "      <th>category_list</th>\n",
       "      <th>status</th>\n",
       "      <th>country_code</th>\n",
       "      <th>state_code</th>\n",
       "      <th>region</th>\n",
       "      <th>city</th>\n",
       "      <th>founded_at</th>\n",
       "      <th>companyname</th>\n",
       "    </tr>\n",
       "  </thead>\n",
       "  <tbody>\n",
       "    <tr>\n",
       "      <th>0</th>\n",
       "      <td>/Organization/-Fame</td>\n",
       "      <td>#fame</td>\n",
       "      <td>http://livfame.com</td>\n",
       "      <td>Media</td>\n",
       "      <td>operating</td>\n",
       "      <td>IND</td>\n",
       "      <td>16</td>\n",
       "      <td>Mumbai</td>\n",
       "      <td>Mumbai</td>\n",
       "      <td>NaN</td>\n",
       "      <td>-fame</td>\n",
       "    </tr>\n",
       "    <tr>\n",
       "      <th>1</th>\n",
       "      <td>/Organization/-Qounter</td>\n",
       "      <td>:Qounter</td>\n",
       "      <td>http://www.qounter.com</td>\n",
       "      <td>Application Platforms|Real Time|Social Network...</td>\n",
       "      <td>operating</td>\n",
       "      <td>USA</td>\n",
       "      <td>DE</td>\n",
       "      <td>DE - Other</td>\n",
       "      <td>Delaware City</td>\n",
       "      <td>04-09-2014</td>\n",
       "      <td>-qounter</td>\n",
       "    </tr>\n",
       "  </tbody>\n",
       "</table>\n",
       "</div>"
      ],
      "text/plain": [
       "                permalink      name            homepage_url  \\\n",
       "0     /Organization/-Fame     #fame      http://livfame.com   \n",
       "1  /Organization/-Qounter  :Qounter  http://www.qounter.com   \n",
       "\n",
       "                                       category_list     status country_code  \\\n",
       "0                                              Media  operating          IND   \n",
       "1  Application Platforms|Real Time|Social Network...  operating          USA   \n",
       "\n",
       "  state_code      region           city  founded_at companyname  \n",
       "0         16      Mumbai         Mumbai         NaN       -fame  \n",
       "1         DE  DE - Other  Delaware City  04-09-2014    -qounter  "
      ]
     },
     "execution_count": 8,
     "metadata": {},
     "output_type": "execute_result"
    }
   ],
   "source": [
    "companies['companyname']=companyname\n",
    "companies.head(2)"
   ]
  },
  {
   "cell_type": "code",
   "execution_count": 9,
   "metadata": {},
   "outputs": [
    {
     "data": {
      "text/plain": [
       "array(['-fame', '-qounter', '-the-one-of-them-inc-', ..., 'ã\\x81eron',\n",
       "       'ã”asys-2', 'ä°novatiff-reklam-ve-tanä±tä±m-hizmetleri-tic'],\n",
       "      dtype=object)"
      ]
     },
     "execution_count": 9,
     "metadata": {},
     "output_type": "execute_result"
    }
   ],
   "source": [
    "companies['companyname'].unique()"
   ]
  },
  {
   "cell_type": "code",
   "execution_count": 10,
   "metadata": {},
   "outputs": [
    {
     "data": {
      "text/plain": [
       "66368"
      ]
     },
     "execution_count": 10,
     "metadata": {},
     "output_type": "execute_result"
    }
   ],
   "source": [
    "companies['companyname'].nunique()"
   ]
  },
  {
   "cell_type": "code",
   "execution_count": 11,
   "metadata": {},
   "outputs": [],
   "source": [
    "#1.how many unique companies are present in rounds2?\n",
    "rounds2=pd.read_csv('rounds2.csv',encoding='ansi')"
   ]
  },
  {
   "cell_type": "code",
   "execution_count": 12,
   "metadata": {},
   "outputs": [
    {
     "data": {
      "text/html": [
       "<div>\n",
       "<style scoped>\n",
       "    .dataframe tbody tr th:only-of-type {\n",
       "        vertical-align: middle;\n",
       "    }\n",
       "\n",
       "    .dataframe tbody tr th {\n",
       "        vertical-align: top;\n",
       "    }\n",
       "\n",
       "    .dataframe thead th {\n",
       "        text-align: right;\n",
       "    }\n",
       "</style>\n",
       "<table border=\"1\" class=\"dataframe\">\n",
       "  <thead>\n",
       "    <tr style=\"text-align: right;\">\n",
       "      <th></th>\n",
       "      <th>company_permalink</th>\n",
       "      <th>funding_round_permalink</th>\n",
       "      <th>funding_round_type</th>\n",
       "      <th>funding_round_code</th>\n",
       "      <th>funded_at</th>\n",
       "      <th>raised_amount_usd</th>\n",
       "    </tr>\n",
       "  </thead>\n",
       "  <tbody>\n",
       "    <tr>\n",
       "      <th>0</th>\n",
       "      <td>/organization/-fame</td>\n",
       "      <td>/funding-round/9a01d05418af9f794eebff7ace91f638</td>\n",
       "      <td>venture</td>\n",
       "      <td>B</td>\n",
       "      <td>05-01-2015</td>\n",
       "      <td>10000000.0</td>\n",
       "    </tr>\n",
       "    <tr>\n",
       "      <th>1</th>\n",
       "      <td>/ORGANIZATION/-QOUNTER</td>\n",
       "      <td>/funding-round/22dacff496eb7acb2b901dec1dfe5633</td>\n",
       "      <td>venture</td>\n",
       "      <td>A</td>\n",
       "      <td>14-10-2014</td>\n",
       "      <td>NaN</td>\n",
       "    </tr>\n",
       "  </tbody>\n",
       "</table>\n",
       "</div>"
      ],
      "text/plain": [
       "        company_permalink                          funding_round_permalink  \\\n",
       "0     /organization/-fame  /funding-round/9a01d05418af9f794eebff7ace91f638   \n",
       "1  /ORGANIZATION/-QOUNTER  /funding-round/22dacff496eb7acb2b901dec1dfe5633   \n",
       "\n",
       "  funding_round_type funding_round_code   funded_at  raised_amount_usd  \n",
       "0            venture                  B  05-01-2015         10000000.0  \n",
       "1            venture                  A  14-10-2014                NaN  "
      ]
     },
     "execution_count": 12,
     "metadata": {},
     "output_type": "execute_result"
    }
   ],
   "source": [
    "rounds2.head(2)"
   ]
  },
  {
   "cell_type": "code",
   "execution_count": 13,
   "metadata": {},
   "outputs": [
    {
     "data": {
      "text/plain": [
       "(114949, 6)"
      ]
     },
     "execution_count": 13,
     "metadata": {},
     "output_type": "execute_result"
    }
   ],
   "source": [
    "rounds2.shape"
   ]
  },
  {
   "cell_type": "code",
   "execution_count": 14,
   "metadata": {},
   "outputs": [
    {
     "data": {
      "text/plain": [
       "Index(['company_permalink', 'funding_round_permalink', 'funding_round_type',\n",
       "       'funding_round_code', 'funded_at', 'raised_amount_usd'],\n",
       "      dtype='object')"
      ]
     },
     "execution_count": 14,
     "metadata": {},
     "output_type": "execute_result"
    }
   ],
   "source": [
    "rounds2.columns"
   ]
  },
  {
   "cell_type": "code",
   "execution_count": 15,
   "metadata": {},
   "outputs": [
    {
     "data": {
      "text/plain": [
       "/ORGANIZATION/SOLARFLARE                            10\n",
       "/ORGANIZATION/SEMPRIUS                               9\n",
       "/ORGANIZATION/EXAGEN-DIAGNOSTICS                     9\n",
       "/organization/exagen-diagnostics                     9\n",
       "/ORGANIZATION/QUELLAN                                9\n",
       "                                                    ..\n",
       "/organization/wavecheck                              1\n",
       "/ORGANIZATION/BOTTOMLINE-TECHNOLOGIES                1\n",
       "/ORGANIZATION/BIOMODE-BIOMOLECULAR-DETERMINATION     1\n",
       "/ORGANIZATION/AKRION                                 1\n",
       "/organization/alphanation                            1\n",
       "Name: company_permalink, Length: 90247, dtype: int64"
      ]
     },
     "execution_count": 15,
     "metadata": {},
     "output_type": "execute_result"
    }
   ],
   "source": [
    "rounds2['company_permalink'].value_counts()"
   ]
  },
  {
   "cell_type": "code",
   "execution_count": 16,
   "metadata": {},
   "outputs": [],
   "source": [
    "companyname=[]\n",
    "for i in rounds2['company_permalink']:\n",
    "    companyname.append(i.split('/')[2].lower())"
   ]
  },
  {
   "cell_type": "code",
   "execution_count": 17,
   "metadata": {},
   "outputs": [
    {
     "data": {
      "text/html": [
       "<div>\n",
       "<style scoped>\n",
       "    .dataframe tbody tr th:only-of-type {\n",
       "        vertical-align: middle;\n",
       "    }\n",
       "\n",
       "    .dataframe tbody tr th {\n",
       "        vertical-align: top;\n",
       "    }\n",
       "\n",
       "    .dataframe thead th {\n",
       "        text-align: right;\n",
       "    }\n",
       "</style>\n",
       "<table border=\"1\" class=\"dataframe\">\n",
       "  <thead>\n",
       "    <tr style=\"text-align: right;\">\n",
       "      <th></th>\n",
       "      <th>company_permalink</th>\n",
       "      <th>funding_round_permalink</th>\n",
       "      <th>funding_round_type</th>\n",
       "      <th>funding_round_code</th>\n",
       "      <th>funded_at</th>\n",
       "      <th>raised_amount_usd</th>\n",
       "      <th>companyname</th>\n",
       "    </tr>\n",
       "  </thead>\n",
       "  <tbody>\n",
       "    <tr>\n",
       "      <th>0</th>\n",
       "      <td>/organization/-fame</td>\n",
       "      <td>/funding-round/9a01d05418af9f794eebff7ace91f638</td>\n",
       "      <td>venture</td>\n",
       "      <td>B</td>\n",
       "      <td>05-01-2015</td>\n",
       "      <td>10000000.0</td>\n",
       "      <td>-fame</td>\n",
       "    </tr>\n",
       "    <tr>\n",
       "      <th>1</th>\n",
       "      <td>/ORGANIZATION/-QOUNTER</td>\n",
       "      <td>/funding-round/22dacff496eb7acb2b901dec1dfe5633</td>\n",
       "      <td>venture</td>\n",
       "      <td>A</td>\n",
       "      <td>14-10-2014</td>\n",
       "      <td>NaN</td>\n",
       "      <td>-qounter</td>\n",
       "    </tr>\n",
       "  </tbody>\n",
       "</table>\n",
       "</div>"
      ],
      "text/plain": [
       "        company_permalink                          funding_round_permalink  \\\n",
       "0     /organization/-fame  /funding-round/9a01d05418af9f794eebff7ace91f638   \n",
       "1  /ORGANIZATION/-QOUNTER  /funding-round/22dacff496eb7acb2b901dec1dfe5633   \n",
       "\n",
       "  funding_round_type funding_round_code   funded_at  raised_amount_usd  \\\n",
       "0            venture                  B  05-01-2015         10000000.0   \n",
       "1            venture                  A  14-10-2014                NaN   \n",
       "\n",
       "  companyname  \n",
       "0       -fame  \n",
       "1    -qounter  "
      ]
     },
     "execution_count": 17,
     "metadata": {},
     "output_type": "execute_result"
    }
   ],
   "source": [
    "rounds2['companyname']=companyname\n",
    "rounds2.head(2)"
   ]
  },
  {
   "cell_type": "code",
   "execution_count": 18,
   "metadata": {},
   "outputs": [
    {
     "data": {
      "text/html": [
       "<div>\n",
       "<style scoped>\n",
       "    .dataframe tbody tr th:only-of-type {\n",
       "        vertical-align: middle;\n",
       "    }\n",
       "\n",
       "    .dataframe tbody tr th {\n",
       "        vertical-align: top;\n",
       "    }\n",
       "\n",
       "    .dataframe thead th {\n",
       "        text-align: right;\n",
       "    }\n",
       "</style>\n",
       "<table border=\"1\" class=\"dataframe\">\n",
       "  <thead>\n",
       "    <tr style=\"text-align: right;\">\n",
       "      <th></th>\n",
       "      <th>company_permalink</th>\n",
       "      <th>funding_round_permalink</th>\n",
       "      <th>funding_round_type</th>\n",
       "      <th>funding_round_code</th>\n",
       "      <th>funded_at</th>\n",
       "      <th>raised_amount_usd</th>\n",
       "      <th>companyname</th>\n",
       "    </tr>\n",
       "  </thead>\n",
       "  <tbody>\n",
       "    <tr>\n",
       "      <th>0</th>\n",
       "      <td>/organization/-fame</td>\n",
       "      <td>/funding-round/9a01d05418af9f794eebff7ace91f638</td>\n",
       "      <td>venture</td>\n",
       "      <td>B</td>\n",
       "      <td>05-01-2015</td>\n",
       "      <td>10000000.0</td>\n",
       "      <td>-fame</td>\n",
       "    </tr>\n",
       "    <tr>\n",
       "      <th>1</th>\n",
       "      <td>/ORGANIZATION/-QOUNTER</td>\n",
       "      <td>/funding-round/22dacff496eb7acb2b901dec1dfe5633</td>\n",
       "      <td>venture</td>\n",
       "      <td>A</td>\n",
       "      <td>14-10-2014</td>\n",
       "      <td>NaN</td>\n",
       "      <td>-qounter</td>\n",
       "    </tr>\n",
       "  </tbody>\n",
       "</table>\n",
       "</div>"
      ],
      "text/plain": [
       "        company_permalink                          funding_round_permalink  \\\n",
       "0     /organization/-fame  /funding-round/9a01d05418af9f794eebff7ace91f638   \n",
       "1  /ORGANIZATION/-QOUNTER  /funding-round/22dacff496eb7acb2b901dec1dfe5633   \n",
       "\n",
       "  funding_round_type funding_round_code   funded_at  raised_amount_usd  \\\n",
       "0            venture                  B  05-01-2015         10000000.0   \n",
       "1            venture                  A  14-10-2014                NaN   \n",
       "\n",
       "  companyname  \n",
       "0       -fame  \n",
       "1    -qounter  "
      ]
     },
     "execution_count": 18,
     "metadata": {},
     "output_type": "execute_result"
    }
   ],
   "source": [
    "rounds2['companyname']=companyname\n",
    "rounds2.head(2)"
   ]
  },
  {
   "cell_type": "code",
   "execution_count": 19,
   "metadata": {},
   "outputs": [
    {
     "data": {
      "text/plain": [
       "array(['-fame', '-qounter', '-the-one-of-them-inc-', ..., 'ã\\x81eron',\n",
       "       'ã”asys-2', 'ä°novatiff-reklam-ve-tanä±tä±m-hizmetleri-tic'],\n",
       "      dtype=object)"
      ]
     },
     "execution_count": 19,
     "metadata": {},
     "output_type": "execute_result"
    }
   ],
   "source": [
    "rounds2['companyname'].unique()"
   ]
  },
  {
   "cell_type": "code",
   "execution_count": 20,
   "metadata": {},
   "outputs": [
    {
     "data": {
      "text/plain": [
       "66368"
      ]
     },
     "execution_count": 20,
     "metadata": {},
     "output_type": "execute_result"
    }
   ],
   "source": [
    "rounds2['companyname'].nunique()"
   ]
  },
  {
   "cell_type": "markdown",
   "metadata": {
    "jupyter": {
     "outputs_hidden": true
    }
   },
   "source": [
    "3.In the companies data frame, which column can be used as the unique key for each company? Write the name of the column.\n",
    "Ans.'permalink'"
   ]
  },
  {
   "cell_type": "markdown",
   "metadata": {},
   "source": [
    "4.Are there any companies in the rounds2 file which are not present in\n",
    "companies? \n",
    "Ans:No"
   ]
  },
  {
   "cell_type": "code",
   "execution_count": 21,
   "metadata": {},
   "outputs": [],
   "source": [
    "#Ans.#set operation\n",
    "company_unique=companies['companyname'].unique()\n",
    "rounds2_unique=rounds2['companyname'].unique()"
   ]
  },
  {
   "cell_type": "code",
   "execution_count": 22,
   "metadata": {},
   "outputs": [
    {
     "data": {
      "text/plain": [
       "set()"
      ]
     },
     "execution_count": 22,
     "metadata": {},
     "output_type": "execute_result"
    }
   ],
   "source": [
    "set(company_unique).difference(set(rounds2_unique)) "
   ]
  },
  {
   "cell_type": "code",
   "execution_count": 23,
   "metadata": {},
   "outputs": [],
   "source": [
    "# empty set is telling that same company names only exist in both these files."
   ]
  },
  {
   "cell_type": "markdown",
   "metadata": {},
   "source": [
    "since the difference is zero,the companies present in both the files are same"
   ]
  },
  {
   "cell_type": "code",
   "execution_count": 24,
   "metadata": {},
   "outputs": [
    {
     "data": {
      "text/html": [
       "<div>\n",
       "<style scoped>\n",
       "    .dataframe tbody tr th:only-of-type {\n",
       "        vertical-align: middle;\n",
       "    }\n",
       "\n",
       "    .dataframe tbody tr th {\n",
       "        vertical-align: top;\n",
       "    }\n",
       "\n",
       "    .dataframe thead th {\n",
       "        text-align: right;\n",
       "    }\n",
       "</style>\n",
       "<table border=\"1\" class=\"dataframe\">\n",
       "  <thead>\n",
       "    <tr style=\"text-align: right;\">\n",
       "      <th></th>\n",
       "      <th>permalink</th>\n",
       "      <th>name</th>\n",
       "      <th>homepage_url</th>\n",
       "      <th>category_list</th>\n",
       "      <th>status</th>\n",
       "      <th>country_code</th>\n",
       "      <th>state_code</th>\n",
       "      <th>region</th>\n",
       "      <th>city</th>\n",
       "      <th>founded_at</th>\n",
       "      <th>companyname</th>\n",
       "      <th>company_permalink</th>\n",
       "      <th>funding_round_permalink</th>\n",
       "      <th>funding_round_type</th>\n",
       "      <th>funding_round_code</th>\n",
       "      <th>funded_at</th>\n",
       "      <th>raised_amount_usd</th>\n",
       "    </tr>\n",
       "  </thead>\n",
       "  <tbody>\n",
       "    <tr>\n",
       "      <th>0</th>\n",
       "      <td>/Organization/-Fame</td>\n",
       "      <td>#fame</td>\n",
       "      <td>http://livfame.com</td>\n",
       "      <td>Media</td>\n",
       "      <td>operating</td>\n",
       "      <td>IND</td>\n",
       "      <td>16</td>\n",
       "      <td>Mumbai</td>\n",
       "      <td>Mumbai</td>\n",
       "      <td>NaN</td>\n",
       "      <td>-fame</td>\n",
       "      <td>/organization/-fame</td>\n",
       "      <td>/funding-round/9a01d05418af9f794eebff7ace91f638</td>\n",
       "      <td>venture</td>\n",
       "      <td>B</td>\n",
       "      <td>05-01-2015</td>\n",
       "      <td>10000000.0</td>\n",
       "    </tr>\n",
       "    <tr>\n",
       "      <th>1</th>\n",
       "      <td>/Organization/-Qounter</td>\n",
       "      <td>:Qounter</td>\n",
       "      <td>http://www.qounter.com</td>\n",
       "      <td>Application Platforms|Real Time|Social Network...</td>\n",
       "      <td>operating</td>\n",
       "      <td>USA</td>\n",
       "      <td>DE</td>\n",
       "      <td>DE - Other</td>\n",
       "      <td>Delaware City</td>\n",
       "      <td>04-09-2014</td>\n",
       "      <td>-qounter</td>\n",
       "      <td>/ORGANIZATION/-QOUNTER</td>\n",
       "      <td>/funding-round/22dacff496eb7acb2b901dec1dfe5633</td>\n",
       "      <td>venture</td>\n",
       "      <td>A</td>\n",
       "      <td>14-10-2014</td>\n",
       "      <td>NaN</td>\n",
       "    </tr>\n",
       "  </tbody>\n",
       "</table>\n",
       "</div>"
      ],
      "text/plain": [
       "                permalink      name            homepage_url  \\\n",
       "0     /Organization/-Fame     #fame      http://livfame.com   \n",
       "1  /Organization/-Qounter  :Qounter  http://www.qounter.com   \n",
       "\n",
       "                                       category_list     status country_code  \\\n",
       "0                                              Media  operating          IND   \n",
       "1  Application Platforms|Real Time|Social Network...  operating          USA   \n",
       "\n",
       "  state_code      region           city  founded_at companyname  \\\n",
       "0         16      Mumbai         Mumbai         NaN       -fame   \n",
       "1         DE  DE - Other  Delaware City  04-09-2014    -qounter   \n",
       "\n",
       "        company_permalink                          funding_round_permalink  \\\n",
       "0     /organization/-fame  /funding-round/9a01d05418af9f794eebff7ace91f638   \n",
       "1  /ORGANIZATION/-QOUNTER  /funding-round/22dacff496eb7acb2b901dec1dfe5633   \n",
       "\n",
       "  funding_round_type funding_round_code   funded_at  raised_amount_usd  \n",
       "0            venture                  B  05-01-2015         10000000.0  \n",
       "1            venture                  A  14-10-2014                NaN  "
      ]
     },
     "execution_count": 24,
     "metadata": {},
     "output_type": "execute_result"
    }
   ],
   "source": [
    "#4.Merge the two data frames so that all variables (columns) in the companies frame are added to the rounds2 data frame. Name the merged frame master_frame. How many observations are present in master_frame?\n",
    "master_frame=pd.merge(left=companies,right=rounds2,on='companyname')\n",
    "master_frame.head(2)"
   ]
  },
  {
   "cell_type": "code",
   "execution_count": 25,
   "metadata": {},
   "outputs": [
    {
     "data": {
      "text/plain": [
       "(114949, 17)"
      ]
     },
     "execution_count": 25,
     "metadata": {},
     "output_type": "execute_result"
    }
   ],
   "source": [
    "#5. How many observations are present in master_frame?\n",
    "master_frame.shape"
   ]
  },
  {
   "cell_type": "markdown",
   "metadata": {
    "jupyter": {
     "outputs_hidden": true
    }
   },
   "source": [
    "Problem 2: Funding Type Analysis \n",
    "#1. Calculate the most representative value of the investment amount for\n",
    "each of the four funding types (venture, angel, seed, and private equity) and\n",
    "report the answers in the template provided on the previous page"
   ]
  },
  {
   "cell_type": "code",
   "execution_count": 26,
   "metadata": {},
   "outputs": [
    {
     "data": {
      "text/plain": [
       "Index(['permalink', 'name', 'homepage_url', 'category_list', 'status',\n",
       "       'country_code', 'state_code', 'region', 'city', 'founded_at',\n",
       "       'companyname', 'company_permalink', 'funding_round_permalink',\n",
       "       'funding_round_type', 'funding_round_code', 'funded_at',\n",
       "       'raised_amount_usd'],\n",
       "      dtype='object')"
      ]
     },
     "execution_count": 26,
     "metadata": {},
     "output_type": "execute_result"
    }
   ],
   "source": [
    "master_frame.columns"
   ]
  },
  {
   "cell_type": "code",
   "execution_count": 27,
   "metadata": {},
   "outputs": [
    {
     "data": {
      "text/plain": [
       "funding_round_type\n",
       "angel                    9.586945e+05\n",
       "convertible_note         1.453439e+06\n",
       "debt_financing           1.704353e+07\n",
       "equity_crowdfunding      5.383682e+05\n",
       "grant                    4.300576e+06\n",
       "non_equity_assistance    4.112031e+05\n",
       "post_ipo_debt            1.687046e+08\n",
       "post_ipo_equity          8.218249e+07\n",
       "private_equity           7.330859e+07\n",
       "product_crowdfunding     1.363131e+06\n",
       "secondary_market         7.964963e+07\n",
       "seed                     7.198180e+05\n",
       "undisclosed              1.924237e+07\n",
       "venture                  1.174895e+07\n",
       "Name: raised_amount_usd, dtype: float64"
      ]
     },
     "execution_count": 27,
     "metadata": {},
     "output_type": "execute_result"
    }
   ],
   "source": [
    "master_frame.groupby('funding_round_type')['raised_amount_usd'].mean()"
   ]
  },
  {
   "cell_type": "markdown",
   "metadata": {
    "jupyter": {
     "outputs_hidden": true
    }
   },
   "source": [
    "2. Based on the most representative investment amount calculated above, which\n",
    "investment type do you think is the most suitable for Teclov?\n",
    "Ans:'venture' investment type is the most suitable type for Teclov as its budget is 5 to 15 million USD"
   ]
  },
  {
   "cell_type": "code",
   "execution_count": 28,
   "metadata": {},
   "outputs": [
    {
     "data": {
      "text/plain": [
       "0          True\n",
       "1          True\n",
       "2         False\n",
       "3          True\n",
       "4          True\n",
       "          ...  \n",
       "114944    False\n",
       "114945    False\n",
       "114946     True\n",
       "114947    False\n",
       "114948    False\n",
       "Name: funding_round_type, Length: 114949, dtype: bool"
      ]
     },
     "execution_count": 28,
     "metadata": {},
     "output_type": "execute_result"
    }
   ],
   "source": [
    "master_frame['funding_round_type']=='venture'"
   ]
  },
  {
   "cell_type": "code",
   "execution_count": 29,
   "metadata": {},
   "outputs": [
    {
     "data": {
      "text/html": [
       "<div>\n",
       "<style scoped>\n",
       "    .dataframe tbody tr th:only-of-type {\n",
       "        vertical-align: middle;\n",
       "    }\n",
       "\n",
       "    .dataframe tbody tr th {\n",
       "        vertical-align: top;\n",
       "    }\n",
       "\n",
       "    .dataframe thead th {\n",
       "        text-align: right;\n",
       "    }\n",
       "</style>\n",
       "<table border=\"1\" class=\"dataframe\">\n",
       "  <thead>\n",
       "    <tr style=\"text-align: right;\">\n",
       "      <th></th>\n",
       "      <th>permalink</th>\n",
       "      <th>name</th>\n",
       "      <th>homepage_url</th>\n",
       "      <th>category_list</th>\n",
       "      <th>status</th>\n",
       "      <th>country_code</th>\n",
       "      <th>state_code</th>\n",
       "      <th>region</th>\n",
       "      <th>city</th>\n",
       "      <th>founded_at</th>\n",
       "      <th>companyname</th>\n",
       "      <th>company_permalink</th>\n",
       "      <th>funding_round_permalink</th>\n",
       "      <th>funding_round_type</th>\n",
       "      <th>funding_round_code</th>\n",
       "      <th>funded_at</th>\n",
       "      <th>raised_amount_usd</th>\n",
       "    </tr>\n",
       "  </thead>\n",
       "  <tbody>\n",
       "    <tr>\n",
       "      <th>0</th>\n",
       "      <td>/Organization/-Fame</td>\n",
       "      <td>#fame</td>\n",
       "      <td>http://livfame.com</td>\n",
       "      <td>Media</td>\n",
       "      <td>operating</td>\n",
       "      <td>IND</td>\n",
       "      <td>16</td>\n",
       "      <td>Mumbai</td>\n",
       "      <td>Mumbai</td>\n",
       "      <td>NaN</td>\n",
       "      <td>-fame</td>\n",
       "      <td>/organization/-fame</td>\n",
       "      <td>/funding-round/9a01d05418af9f794eebff7ace91f638</td>\n",
       "      <td>venture</td>\n",
       "      <td>B</td>\n",
       "      <td>05-01-2015</td>\n",
       "      <td>10000000.0</td>\n",
       "    </tr>\n",
       "    <tr>\n",
       "      <th>1</th>\n",
       "      <td>/Organization/-Qounter</td>\n",
       "      <td>:Qounter</td>\n",
       "      <td>http://www.qounter.com</td>\n",
       "      <td>Application Platforms|Real Time|Social Network...</td>\n",
       "      <td>operating</td>\n",
       "      <td>USA</td>\n",
       "      <td>DE</td>\n",
       "      <td>DE - Other</td>\n",
       "      <td>Delaware City</td>\n",
       "      <td>04-09-2014</td>\n",
       "      <td>-qounter</td>\n",
       "      <td>/ORGANIZATION/-QOUNTER</td>\n",
       "      <td>/funding-round/22dacff496eb7acb2b901dec1dfe5633</td>\n",
       "      <td>venture</td>\n",
       "      <td>A</td>\n",
       "      <td>14-10-2014</td>\n",
       "      <td>NaN</td>\n",
       "    </tr>\n",
       "    <tr>\n",
       "      <th>3</th>\n",
       "      <td>/Organization/-The-One-Of-Them-Inc-</td>\n",
       "      <td>(THE) ONE of THEM,Inc.</td>\n",
       "      <td>http://oneofthem.jp</td>\n",
       "      <td>Apps|Games|Mobile</td>\n",
       "      <td>operating</td>\n",
       "      <td>NaN</td>\n",
       "      <td>NaN</td>\n",
       "      <td>NaN</td>\n",
       "      <td>NaN</td>\n",
       "      <td>NaN</td>\n",
       "      <td>-the-one-of-them-inc-</td>\n",
       "      <td>/ORGANIZATION/-THE-ONE-OF-THEM-INC-</td>\n",
       "      <td>/funding-round/650b8f704416801069bb178a1418776b</td>\n",
       "      <td>venture</td>\n",
       "      <td>B</td>\n",
       "      <td>30-01-2014</td>\n",
       "      <td>3406878.0</td>\n",
       "    </tr>\n",
       "    <tr>\n",
       "      <th>4</th>\n",
       "      <td>/Organization/0-6-Com</td>\n",
       "      <td>0-6.com</td>\n",
       "      <td>http://www.0-6.com</td>\n",
       "      <td>Curated Web</td>\n",
       "      <td>operating</td>\n",
       "      <td>CHN</td>\n",
       "      <td>22</td>\n",
       "      <td>Beijing</td>\n",
       "      <td>Beijing</td>\n",
       "      <td>01-01-2007</td>\n",
       "      <td>0-6-com</td>\n",
       "      <td>/organization/0-6-com</td>\n",
       "      <td>/funding-round/5727accaeaa57461bd22a9bdd945382d</td>\n",
       "      <td>venture</td>\n",
       "      <td>A</td>\n",
       "      <td>19-03-2008</td>\n",
       "      <td>2000000.0</td>\n",
       "    </tr>\n",
       "    <tr>\n",
       "      <th>5</th>\n",
       "      <td>/Organization/004-Technologies</td>\n",
       "      <td>004 Technologies</td>\n",
       "      <td>http://004gmbh.de/en/004-interact</td>\n",
       "      <td>Software</td>\n",
       "      <td>operating</td>\n",
       "      <td>USA</td>\n",
       "      <td>IL</td>\n",
       "      <td>Springfield, Illinois</td>\n",
       "      <td>Champaign</td>\n",
       "      <td>01-01-2010</td>\n",
       "      <td>004-technologies</td>\n",
       "      <td>/ORGANIZATION/004-TECHNOLOGIES</td>\n",
       "      <td>/funding-round/1278dd4e6a37fa4b7d7e06c21b3c1830</td>\n",
       "      <td>venture</td>\n",
       "      <td>NaN</td>\n",
       "      <td>24-07-2014</td>\n",
       "      <td>NaN</td>\n",
       "    </tr>\n",
       "    <tr>\n",
       "      <th>...</th>\n",
       "      <td>...</td>\n",
       "      <td>...</td>\n",
       "      <td>...</td>\n",
       "      <td>...</td>\n",
       "      <td>...</td>\n",
       "      <td>...</td>\n",
       "      <td>...</td>\n",
       "      <td>...</td>\n",
       "      <td>...</td>\n",
       "      <td>...</td>\n",
       "      <td>...</td>\n",
       "      <td>...</td>\n",
       "      <td>...</td>\n",
       "      <td>...</td>\n",
       "      <td>...</td>\n",
       "      <td>...</td>\n",
       "      <td>...</td>\n",
       "    </tr>\n",
       "    <tr>\n",
       "      <th>114934</th>\n",
       "      <td>/Organization/Zyrra</td>\n",
       "      <td>Zyrra</td>\n",
       "      <td>http://www.zyrra.com</td>\n",
       "      <td>E-Commerce</td>\n",
       "      <td>operating</td>\n",
       "      <td>USA</td>\n",
       "      <td>MA</td>\n",
       "      <td>Boston</td>\n",
       "      <td>Cambridge</td>\n",
       "      <td>NaN</td>\n",
       "      <td>zyrra</td>\n",
       "      <td>/organization/zyrra</td>\n",
       "      <td>/funding-round/7a0fa791c96c9c447ee54662395beab9</td>\n",
       "      <td>venture</td>\n",
       "      <td>NaN</td>\n",
       "      <td>18-10-2012</td>\n",
       "      <td>140500.0</td>\n",
       "    </tr>\n",
       "    <tr>\n",
       "      <th>114936</th>\n",
       "      <td>/Organization/Zystor</td>\n",
       "      <td>Zystor</td>\n",
       "      <td>http://www.zystor.com</td>\n",
       "      <td>Biotechnology</td>\n",
       "      <td>acquired</td>\n",
       "      <td>USA</td>\n",
       "      <td>WI</td>\n",
       "      <td>Milwaukee</td>\n",
       "      <td>Milwaukee</td>\n",
       "      <td>NaN</td>\n",
       "      <td>zystor</td>\n",
       "      <td>/organization/zystor</td>\n",
       "      <td>/funding-round/7ea37c0ff4132b084832039a9380d34e</td>\n",
       "      <td>venture</td>\n",
       "      <td>A</td>\n",
       "      <td>16-12-2004</td>\n",
       "      <td>8500000.0</td>\n",
       "    </tr>\n",
       "    <tr>\n",
       "      <th>114937</th>\n",
       "      <td>/Organization/Zytoprotec</td>\n",
       "      <td>Zytoprotec</td>\n",
       "      <td>http://www.zytoprotec.com</td>\n",
       "      <td>Biotechnology</td>\n",
       "      <td>operating</td>\n",
       "      <td>AUT</td>\n",
       "      <td>3</td>\n",
       "      <td>Vienna</td>\n",
       "      <td>Gerasdorf Bei Wien</td>\n",
       "      <td>01-01-2007</td>\n",
       "      <td>zytoprotec</td>\n",
       "      <td>/ORGANIZATION/ZYTOPROTEC</td>\n",
       "      <td>/funding-round/0c43e717298296d2fb334fb236300f6e</td>\n",
       "      <td>venture</td>\n",
       "      <td>A</td>\n",
       "      <td>29-01-2013</td>\n",
       "      <td>2686600.0</td>\n",
       "    </tr>\n",
       "    <tr>\n",
       "      <th>114941</th>\n",
       "      <td>/Organization/Zznode-Science-And-Technology-Co...</td>\n",
       "      <td>ZZNode Science and Technology</td>\n",
       "      <td>http://www.zznode.com</td>\n",
       "      <td>Enterprise Software</td>\n",
       "      <td>operating</td>\n",
       "      <td>CHN</td>\n",
       "      <td>22</td>\n",
       "      <td>Beijing</td>\n",
       "      <td>Beijing</td>\n",
       "      <td>NaN</td>\n",
       "      <td>zznode-science-and-technology-co-ltd</td>\n",
       "      <td>/ORGANIZATION/ZZNODE-SCIENCE-AND-TECHNOLOGY-CO...</td>\n",
       "      <td>/funding-round/171693e1e07e0230defd8fddb6de4515</td>\n",
       "      <td>venture</td>\n",
       "      <td>A</td>\n",
       "      <td>01-04-2012</td>\n",
       "      <td>1587301.0</td>\n",
       "    </tr>\n",
       "    <tr>\n",
       "      <th>114946</th>\n",
       "      <td>/Organization/ÃEron</td>\n",
       "      <td>ÃERON</td>\n",
       "      <td>http://www.aeron.hu/</td>\n",
       "      <td>NaN</td>\n",
       "      <td>operating</td>\n",
       "      <td>NaN</td>\n",
       "      <td>NaN</td>\n",
       "      <td>NaN</td>\n",
       "      <td>NaN</td>\n",
       "      <td>01-01-2011</td>\n",
       "      <td>ãeron</td>\n",
       "      <td>/organization/ãeron</td>\n",
       "      <td>/funding-round/59f4dce44723b794f21ded3daed6e4fe</td>\n",
       "      <td>venture</td>\n",
       "      <td>A</td>\n",
       "      <td>01-08-2014</td>\n",
       "      <td>NaN</td>\n",
       "    </tr>\n",
       "  </tbody>\n",
       "</table>\n",
       "<p>55494 rows × 17 columns</p>\n",
       "</div>"
      ],
      "text/plain": [
       "                                                permalink  \\\n",
       "0                                     /Organization/-Fame   \n",
       "1                                  /Organization/-Qounter   \n",
       "3                     /Organization/-The-One-Of-Them-Inc-   \n",
       "4                                   /Organization/0-6-Com   \n",
       "5                          /Organization/004-Technologies   \n",
       "...                                                   ...   \n",
       "114934                                /Organization/Zyrra   \n",
       "114936                               /Organization/Zystor   \n",
       "114937                           /Organization/Zytoprotec   \n",
       "114941  /Organization/Zznode-Science-And-Technology-Co...   \n",
       "114946                               /Organization/ÃEron   \n",
       "\n",
       "                                 name                       homepage_url  \\\n",
       "0                               #fame                 http://livfame.com   \n",
       "1                            :Qounter             http://www.qounter.com   \n",
       "3              (THE) ONE of THEM,Inc.                http://oneofthem.jp   \n",
       "4                             0-6.com                 http://www.0-6.com   \n",
       "5                    004 Technologies  http://004gmbh.de/en/004-interact   \n",
       "...                               ...                                ...   \n",
       "114934                          Zyrra               http://www.zyrra.com   \n",
       "114936                         Zystor              http://www.zystor.com   \n",
       "114937                     Zytoprotec          http://www.zytoprotec.com   \n",
       "114941  ZZNode Science and Technology              http://www.zznode.com   \n",
       "114946                         ÃERON               http://www.aeron.hu/   \n",
       "\n",
       "                                            category_list     status  \\\n",
       "0                                                   Media  operating   \n",
       "1       Application Platforms|Real Time|Social Network...  operating   \n",
       "3                                       Apps|Games|Mobile  operating   \n",
       "4                                             Curated Web  operating   \n",
       "5                                                Software  operating   \n",
       "...                                                   ...        ...   \n",
       "114934                                         E-Commerce  operating   \n",
       "114936                                      Biotechnology   acquired   \n",
       "114937                                      Biotechnology  operating   \n",
       "114941                                Enterprise Software  operating   \n",
       "114946                                                NaN  operating   \n",
       "\n",
       "       country_code state_code                 region                city  \\\n",
       "0               IND         16                 Mumbai              Mumbai   \n",
       "1               USA         DE             DE - Other       Delaware City   \n",
       "3               NaN        NaN                    NaN                 NaN   \n",
       "4               CHN         22                Beijing             Beijing   \n",
       "5               USA         IL  Springfield, Illinois           Champaign   \n",
       "...             ...        ...                    ...                 ...   \n",
       "114934          USA         MA                 Boston           Cambridge   \n",
       "114936          USA         WI              Milwaukee           Milwaukee   \n",
       "114937          AUT          3                 Vienna  Gerasdorf Bei Wien   \n",
       "114941          CHN         22                Beijing             Beijing   \n",
       "114946          NaN        NaN                    NaN                 NaN   \n",
       "\n",
       "        founded_at                           companyname  \\\n",
       "0              NaN                                 -fame   \n",
       "1       04-09-2014                              -qounter   \n",
       "3              NaN                 -the-one-of-them-inc-   \n",
       "4       01-01-2007                               0-6-com   \n",
       "5       01-01-2010                      004-technologies   \n",
       "...            ...                                   ...   \n",
       "114934         NaN                                 zyrra   \n",
       "114936         NaN                                zystor   \n",
       "114937  01-01-2007                            zytoprotec   \n",
       "114941         NaN  zznode-science-and-technology-co-ltd   \n",
       "114946  01-01-2011                                ãeron   \n",
       "\n",
       "                                        company_permalink  \\\n",
       "0                                     /organization/-fame   \n",
       "1                                  /ORGANIZATION/-QOUNTER   \n",
       "3                     /ORGANIZATION/-THE-ONE-OF-THEM-INC-   \n",
       "4                                   /organization/0-6-com   \n",
       "5                          /ORGANIZATION/004-TECHNOLOGIES   \n",
       "...                                                   ...   \n",
       "114934                                /organization/zyrra   \n",
       "114936                               /organization/zystor   \n",
       "114937                           /ORGANIZATION/ZYTOPROTEC   \n",
       "114941  /ORGANIZATION/ZZNODE-SCIENCE-AND-TECHNOLOGY-CO...   \n",
       "114946                               /organization/ãeron   \n",
       "\n",
       "                                funding_round_permalink funding_round_type  \\\n",
       "0       /funding-round/9a01d05418af9f794eebff7ace91f638            venture   \n",
       "1       /funding-round/22dacff496eb7acb2b901dec1dfe5633            venture   \n",
       "3       /funding-round/650b8f704416801069bb178a1418776b            venture   \n",
       "4       /funding-round/5727accaeaa57461bd22a9bdd945382d            venture   \n",
       "5       /funding-round/1278dd4e6a37fa4b7d7e06c21b3c1830            venture   \n",
       "...                                                 ...                ...   \n",
       "114934  /funding-round/7a0fa791c96c9c447ee54662395beab9            venture   \n",
       "114936  /funding-round/7ea37c0ff4132b084832039a9380d34e            venture   \n",
       "114937  /funding-round/0c43e717298296d2fb334fb236300f6e            venture   \n",
       "114941  /funding-round/171693e1e07e0230defd8fddb6de4515            venture   \n",
       "114946  /funding-round/59f4dce44723b794f21ded3daed6e4fe            venture   \n",
       "\n",
       "       funding_round_code   funded_at  raised_amount_usd  \n",
       "0                       B  05-01-2015         10000000.0  \n",
       "1                       A  14-10-2014                NaN  \n",
       "3                       B  30-01-2014          3406878.0  \n",
       "4                       A  19-03-2008          2000000.0  \n",
       "5                     NaN  24-07-2014                NaN  \n",
       "...                   ...         ...                ...  \n",
       "114934                NaN  18-10-2012           140500.0  \n",
       "114936                  A  16-12-2004          8500000.0  \n",
       "114937                  A  29-01-2013          2686600.0  \n",
       "114941                  A  01-04-2012          1587301.0  \n",
       "114946                  A  01-08-2014                NaN  \n",
       "\n",
       "[55494 rows x 17 columns]"
      ]
     },
     "execution_count": 29,
     "metadata": {},
     "output_type": "execute_result"
    }
   ],
   "source": [
    "master_frame[master_frame['funding_round_type']=='venture']"
   ]
  },
  {
   "cell_type": "code",
   "execution_count": 30,
   "metadata": {},
   "outputs": [],
   "source": [
    "venture_data = master_frame[master_frame['funding_round_type']=='venture'] "
   ]
  },
  {
   "cell_type": "code",
   "execution_count": 31,
   "metadata": {},
   "outputs": [
    {
     "data": {
      "text/plain": [
       "11748949.129489528"
      ]
     },
     "execution_count": 31,
     "metadata": {},
     "output_type": "execute_result"
    }
   ],
   "source": [
    "venture_data['raised_amount_usd'].mean()"
   ]
  },
  {
   "cell_type": "markdown",
   "metadata": {
    "jupyter": {
     "outputs_hidden": true
    }
   },
   "source": [
    "PROBLEM PART 2\n",
    "Problem 3: Country Analysis "
   ]
  },
  {
   "cell_type": "markdown",
   "metadata": {},
   "source": [
    "1. Teclov wants to see the top nine countries which have received the highest\n",
    "total funding (across ALL sectors for the chosen investment type)"
   ]
  },
  {
   "cell_type": "code",
   "execution_count": 36,
   "metadata": {},
   "outputs": [
    {
     "data": {
      "text/plain": [
       "Index(['permalink', 'name', 'homepage_url', 'category_list', 'status',\n",
       "       'country_code', 'state_code', 'region', 'city', 'founded_at',\n",
       "       'companyname', 'company_permalink', 'funding_round_permalink',\n",
       "       'funding_round_type', 'funding_round_code', 'funded_at',\n",
       "       'raised_amount_usd'],\n",
       "      dtype='object')"
      ]
     },
     "execution_count": 36,
     "metadata": {},
     "output_type": "execute_result"
    }
   ],
   "source": [
    "venture_data.columns"
   ]
  },
  {
   "cell_type": "code",
   "execution_count": 37,
   "metadata": {},
   "outputs": [
    {
     "data": {
      "text/plain": [
       "country_code\n",
       "ARE    1.317760e+07\n",
       "ARG    5.419635e+06\n",
       "ARM    1.325875e+07\n",
       "AUS    6.422014e+06\n",
       "AUT    1.190481e+07\n",
       "           ...     \n",
       "UKR    2.224058e+06\n",
       "URY    2.478750e+06\n",
       "USA    1.169127e+07\n",
       "VNM    4.992971e+06\n",
       "ZAF    1.017665e+07\n",
       "Name: raised_amount_usd, Length: 103, dtype: float64"
      ]
     },
     "execution_count": 37,
     "metadata": {},
     "output_type": "execute_result"
    }
   ],
   "source": [
    "venture_data.groupby('country_code')['raised_amount_usd'].mean()"
   ]
  },
  {
   "cell_type": "code",
   "execution_count": 38,
   "metadata": {},
   "outputs": [
    {
     "data": {
      "text/html": [
       "<div>\n",
       "<style scoped>\n",
       "    .dataframe tbody tr th:only-of-type {\n",
       "        vertical-align: middle;\n",
       "    }\n",
       "\n",
       "    .dataframe tbody tr th {\n",
       "        vertical-align: top;\n",
       "    }\n",
       "\n",
       "    .dataframe thead th {\n",
       "        text-align: right;\n",
       "    }\n",
       "</style>\n",
       "<table border=\"1\" class=\"dataframe\">\n",
       "  <thead>\n",
       "    <tr style=\"text-align: right;\">\n",
       "      <th></th>\n",
       "      <th>country_code</th>\n",
       "      <th>raised_amount_usd</th>\n",
       "    </tr>\n",
       "  </thead>\n",
       "  <tbody>\n",
       "    <tr>\n",
       "      <th>0</th>\n",
       "      <td>ARE</td>\n",
       "      <td>1.317760e+07</td>\n",
       "    </tr>\n",
       "    <tr>\n",
       "      <th>1</th>\n",
       "      <td>ARG</td>\n",
       "      <td>5.419635e+06</td>\n",
       "    </tr>\n",
       "    <tr>\n",
       "      <th>2</th>\n",
       "      <td>ARM</td>\n",
       "      <td>1.325875e+07</td>\n",
       "    </tr>\n",
       "    <tr>\n",
       "      <th>3</th>\n",
       "      <td>AUS</td>\n",
       "      <td>6.422014e+06</td>\n",
       "    </tr>\n",
       "    <tr>\n",
       "      <th>4</th>\n",
       "      <td>AUT</td>\n",
       "      <td>1.190481e+07</td>\n",
       "    </tr>\n",
       "    <tr>\n",
       "      <th>...</th>\n",
       "      <td>...</td>\n",
       "      <td>...</td>\n",
       "    </tr>\n",
       "    <tr>\n",
       "      <th>98</th>\n",
       "      <td>UKR</td>\n",
       "      <td>2.224058e+06</td>\n",
       "    </tr>\n",
       "    <tr>\n",
       "      <th>99</th>\n",
       "      <td>URY</td>\n",
       "      <td>2.478750e+06</td>\n",
       "    </tr>\n",
       "    <tr>\n",
       "      <th>100</th>\n",
       "      <td>USA</td>\n",
       "      <td>1.169127e+07</td>\n",
       "    </tr>\n",
       "    <tr>\n",
       "      <th>101</th>\n",
       "      <td>VNM</td>\n",
       "      <td>4.992971e+06</td>\n",
       "    </tr>\n",
       "    <tr>\n",
       "      <th>102</th>\n",
       "      <td>ZAF</td>\n",
       "      <td>1.017665e+07</td>\n",
       "    </tr>\n",
       "  </tbody>\n",
       "</table>\n",
       "<p>103 rows × 2 columns</p>\n",
       "</div>"
      ],
      "text/plain": [
       "    country_code  raised_amount_usd\n",
       "0            ARE       1.317760e+07\n",
       "1            ARG       5.419635e+06\n",
       "2            ARM       1.325875e+07\n",
       "3            AUS       6.422014e+06\n",
       "4            AUT       1.190481e+07\n",
       "..           ...                ...\n",
       "98           UKR       2.224058e+06\n",
       "99           URY       2.478750e+06\n",
       "100          USA       1.169127e+07\n",
       "101          VNM       4.992971e+06\n",
       "102          ZAF       1.017665e+07\n",
       "\n",
       "[103 rows x 2 columns]"
      ]
     },
     "execution_count": 38,
     "metadata": {},
     "output_type": "execute_result"
    }
   ],
   "source": [
    "venture_coun=venture_data.groupby('country_code')['raised_amount_usd'].mean().reset_index()\n",
    "venture_coun"
   ]
  },
  {
   "cell_type": "code",
   "execution_count": 39,
   "metadata": {},
   "outputs": [
    {
     "data": {
      "text/plain": [
       "pandas.core.frame.DataFrame"
      ]
     },
     "execution_count": 39,
     "metadata": {},
     "output_type": "execute_result"
    }
   ],
   "source": [
    "type(venture_coun)"
   ]
  },
  {
   "cell_type": "code",
   "execution_count": 40,
   "metadata": {},
   "outputs": [
    {
     "data": {
      "text/plain": [
       "country_code\n",
       "BMU    7.220000e+07\n",
       "MYS    2.943529e+07\n",
       "CHN    2.547022e+07\n",
       "EGY    2.438409e+07\n",
       "LUX    2.269379e+07\n",
       "           ...     \n",
       "CRI             NaN\n",
       "MKD             NaN\n",
       "MOZ             NaN\n",
       "PSE             NaN\n",
       "RWA             NaN\n",
       "Name: raised_amount_usd, Length: 103, dtype: float64"
      ]
     },
     "execution_count": 40,
     "metadata": {},
     "output_type": "execute_result"
    }
   ],
   "source": [
    "venture_coun.groupby('country_code')['raised_amount_usd'].mean().sort_values(ascending=False)"
   ]
  },
  {
   "cell_type": "code",
   "execution_count": 41,
   "metadata": {},
   "outputs": [
    {
     "data": {
      "text/plain": [
       "country_code\n",
       "BMU    7.220000e+07\n",
       "MYS    2.943529e+07\n",
       "CHN    2.547022e+07\n",
       "EGY    2.438409e+07\n",
       "LUX    2.269379e+07\n",
       "TWN    2.012837e+07\n",
       "IND    1.746585e+07\n",
       "NGA    1.636267e+07\n",
       "TAN    1.589000e+07\n",
       "NLD    1.580325e+07\n",
       "Name: raised_amount_usd, dtype: float64"
      ]
     },
     "execution_count": 41,
     "metadata": {},
     "output_type": "execute_result"
    }
   ],
   "source": [
    "venture_coun.groupby('country_code')['raised_amount_usd'].mean().sort_values(ascending=False).head(10)"
   ]
  },
  {
   "cell_type": "markdown",
   "metadata": {},
   "source": [
    "2. For the chosen investment type, make a data frame named top9 with the top\n",
    "nine countries (based on the total investment amount each country has\n",
    "received)"
   ]
  },
  {
   "cell_type": "code",
   "execution_count": 42,
   "metadata": {},
   "outputs": [],
   "source": [
    "top9=venture_coun.groupby('country_code')['raised_amount_usd'].mean().sort_values(ascending=False).head(9)"
   ]
  },
  {
   "cell_type": "code",
   "execution_count": 43,
   "metadata": {},
   "outputs": [
    {
     "data": {
      "text/plain": [
       "country_code\n",
       "BMU    7.220000e+07\n",
       "MYS    2.943529e+07\n",
       "CHN    2.547022e+07\n",
       "EGY    2.438409e+07\n",
       "LUX    2.269379e+07\n",
       "TWN    2.012837e+07\n",
       "IND    1.746585e+07\n",
       "NGA    1.636267e+07\n",
       "TAN    1.589000e+07\n",
       "Name: raised_amount_usd, dtype: float64"
      ]
     },
     "execution_count": 43,
     "metadata": {},
     "output_type": "execute_result"
    }
   ],
   "source": [
    "top9"
   ]
  },
  {
   "cell_type": "code",
   "execution_count": 44,
   "metadata": {},
   "outputs": [
    {
     "data": {
      "text/html": [
       "<div>\n",
       "<style scoped>\n",
       "    .dataframe tbody tr th:only-of-type {\n",
       "        vertical-align: middle;\n",
       "    }\n",
       "\n",
       "    .dataframe tbody tr th {\n",
       "        vertical-align: top;\n",
       "    }\n",
       "\n",
       "    .dataframe thead th {\n",
       "        text-align: right;\n",
       "    }\n",
       "</style>\n",
       "<table border=\"1\" class=\"dataframe\">\n",
       "  <thead>\n",
       "    <tr style=\"text-align: right;\">\n",
       "      <th></th>\n",
       "      <th>country_code</th>\n",
       "      <th>raised_amount_usd</th>\n",
       "    </tr>\n",
       "  </thead>\n",
       "  <tbody>\n",
       "    <tr>\n",
       "      <th>0</th>\n",
       "      <td>BMU</td>\n",
       "      <td>7.220000e+07</td>\n",
       "    </tr>\n",
       "    <tr>\n",
       "      <th>1</th>\n",
       "      <td>MYS</td>\n",
       "      <td>2.943529e+07</td>\n",
       "    </tr>\n",
       "    <tr>\n",
       "      <th>2</th>\n",
       "      <td>CHN</td>\n",
       "      <td>2.547022e+07</td>\n",
       "    </tr>\n",
       "    <tr>\n",
       "      <th>3</th>\n",
       "      <td>EGY</td>\n",
       "      <td>2.438409e+07</td>\n",
       "    </tr>\n",
       "    <tr>\n",
       "      <th>4</th>\n",
       "      <td>LUX</td>\n",
       "      <td>2.269379e+07</td>\n",
       "    </tr>\n",
       "    <tr>\n",
       "      <th>5</th>\n",
       "      <td>TWN</td>\n",
       "      <td>2.012837e+07</td>\n",
       "    </tr>\n",
       "    <tr>\n",
       "      <th>6</th>\n",
       "      <td>IND</td>\n",
       "      <td>1.746585e+07</td>\n",
       "    </tr>\n",
       "    <tr>\n",
       "      <th>7</th>\n",
       "      <td>NGA</td>\n",
       "      <td>1.636267e+07</td>\n",
       "    </tr>\n",
       "    <tr>\n",
       "      <th>8</th>\n",
       "      <td>TAN</td>\n",
       "      <td>1.589000e+07</td>\n",
       "    </tr>\n",
       "  </tbody>\n",
       "</table>\n",
       "</div>"
      ],
      "text/plain": [
       "  country_code  raised_amount_usd\n",
       "0          BMU       7.220000e+07\n",
       "1          MYS       2.943529e+07\n",
       "2          CHN       2.547022e+07\n",
       "3          EGY       2.438409e+07\n",
       "4          LUX       2.269379e+07\n",
       "5          TWN       2.012837e+07\n",
       "6          IND       1.746585e+07\n",
       "7          NGA       1.636267e+07\n",
       "8          TAN       1.589000e+07"
      ]
     },
     "execution_count": 44,
     "metadata": {},
     "output_type": "execute_result"
    }
   ],
   "source": [
    "top9=top9.reset_index()\n",
    "top9"
   ]
  },
  {
   "cell_type": "markdown",
   "metadata": {},
   "source": [
    "Q.Identify the top three English-speaking countries in the data frame top9. "
   ]
  },
  {
   "cell_type": "markdown",
   "metadata": {},
   "source": [
    "BMU,NGA AND TAN are the top three English-speaking countries in the data frame top9."
   ]
  },
  {
   "cell_type": "code",
   "execution_count": 45,
   "metadata": {},
   "outputs": [],
   "source": [
    "master_frame = master_frame[(master_frame['country_code'] == 'BMU')\n",
    "                            | (master_frame['country_code'] == 'NGA')\n",
    "                            | (master_frame['country_code'] == 'TAN')]"
   ]
  },
  {
   "cell_type": "code",
   "execution_count": 46,
   "metadata": {},
   "outputs": [
    {
     "data": {
      "text/html": [
       "<div>\n",
       "<style scoped>\n",
       "    .dataframe tbody tr th:only-of-type {\n",
       "        vertical-align: middle;\n",
       "    }\n",
       "\n",
       "    .dataframe tbody tr th {\n",
       "        vertical-align: top;\n",
       "    }\n",
       "\n",
       "    .dataframe thead th {\n",
       "        text-align: right;\n",
       "    }\n",
       "</style>\n",
       "<table border=\"1\" class=\"dataframe\">\n",
       "  <thead>\n",
       "    <tr style=\"text-align: right;\">\n",
       "      <th></th>\n",
       "      <th>permalink</th>\n",
       "      <th>name</th>\n",
       "      <th>homepage_url</th>\n",
       "      <th>category_list</th>\n",
       "      <th>status</th>\n",
       "      <th>country_code</th>\n",
       "      <th>state_code</th>\n",
       "      <th>region</th>\n",
       "      <th>city</th>\n",
       "      <th>founded_at</th>\n",
       "      <th>companyname</th>\n",
       "      <th>company_permalink</th>\n",
       "      <th>funding_round_permalink</th>\n",
       "      <th>funding_round_type</th>\n",
       "      <th>funding_round_code</th>\n",
       "      <th>funded_at</th>\n",
       "      <th>raised_amount_usd</th>\n",
       "    </tr>\n",
       "  </thead>\n",
       "  <tbody>\n",
       "    <tr>\n",
       "      <th>702</th>\n",
       "      <td>/Organization/500Shops</td>\n",
       "      <td>500Shops</td>\n",
       "      <td>http://500shops.com</td>\n",
       "      <td>E-Commerce|Online Shopping|Software</td>\n",
       "      <td>operating</td>\n",
       "      <td>NGA</td>\n",
       "      <td>5</td>\n",
       "      <td>Lagos</td>\n",
       "      <td>Yaba</td>\n",
       "      <td>NaN</td>\n",
       "      <td>500shops</td>\n",
       "      <td>/organization/500shops</td>\n",
       "      <td>/funding-round/57582b2508e21c3f8d62d5450e1b0246</td>\n",
       "      <td>seed</td>\n",
       "      <td>NaN</td>\n",
       "      <td>01-12-2013</td>\n",
       "      <td>5000.0</td>\n",
       "    </tr>\n",
       "    <tr>\n",
       "      <th>1122</th>\n",
       "      <td>/Organization/Ab-Microfinance-Bank-Nigeria</td>\n",
       "      <td>AB Microfinance Bank Nigeria</td>\n",
       "      <td>http://ab-mfbnigeria.com</td>\n",
       "      <td>Finance</td>\n",
       "      <td>operating</td>\n",
       "      <td>NGA</td>\n",
       "      <td>5</td>\n",
       "      <td>Lagos</td>\n",
       "      <td>Lagos</td>\n",
       "      <td>NaN</td>\n",
       "      <td>ab-microfinance-bank-nigeria</td>\n",
       "      <td>/organization/ab-microfinance-bank-nigeria</td>\n",
       "      <td>/funding-round/2bd16fb6f1c1fcb49d3980434d59f620</td>\n",
       "      <td>debt_financing</td>\n",
       "      <td>NaN</td>\n",
       "      <td>19-02-2014</td>\n",
       "      <td>4900000.0</td>\n",
       "    </tr>\n",
       "    <tr>\n",
       "      <th>1654</th>\n",
       "      <td>/Organization/Ace-2</td>\n",
       "      <td>ACE-Africa Courier Express</td>\n",
       "      <td>http://www.ace.ng/</td>\n",
       "      <td>Consumer Goods|Content Delivery|Logistics</td>\n",
       "      <td>operating</td>\n",
       "      <td>NGA</td>\n",
       "      <td>5</td>\n",
       "      <td>Lagos</td>\n",
       "      <td>Lagos</td>\n",
       "      <td>04-11-2013</td>\n",
       "      <td>ace-2</td>\n",
       "      <td>/organization/ace-2</td>\n",
       "      <td>/funding-round/e2e17f1c5046cb72181807077f1f35ad</td>\n",
       "      <td>seed</td>\n",
       "      <td>NaN</td>\n",
       "      <td>15-01-2014</td>\n",
       "      <td>715000.0</td>\n",
       "    </tr>\n",
       "    <tr>\n",
       "      <th>1655</th>\n",
       "      <td>/Organization/Ace-2</td>\n",
       "      <td>ACE-Africa Courier Express</td>\n",
       "      <td>http://www.ace.ng/</td>\n",
       "      <td>Consumer Goods|Content Delivery|Logistics</td>\n",
       "      <td>operating</td>\n",
       "      <td>NGA</td>\n",
       "      <td>5</td>\n",
       "      <td>Lagos</td>\n",
       "      <td>Lagos</td>\n",
       "      <td>04-11-2013</td>\n",
       "      <td>ace-2</td>\n",
       "      <td>/ORGANIZATION/ACE-2</td>\n",
       "      <td>/funding-round/fabe83fe4834e00695d2e39ab6f3e30f</td>\n",
       "      <td>seed</td>\n",
       "      <td>NaN</td>\n",
       "      <td>16-02-2015</td>\n",
       "      <td>3000000.0</td>\n",
       "    </tr>\n",
       "    <tr>\n",
       "      <th>5185</th>\n",
       "      <td>/Organization/Ameraki-Institute-Inc</td>\n",
       "      <td>Ameraki Institute Inc</td>\n",
       "      <td>NaN</td>\n",
       "      <td>Application Platforms|Consulting|Corporate Tra...</td>\n",
       "      <td>operating</td>\n",
       "      <td>NGA</td>\n",
       "      <td>5</td>\n",
       "      <td>Lagos</td>\n",
       "      <td>Lagos</td>\n",
       "      <td>30-06-2014</td>\n",
       "      <td>ameraki-institute-inc</td>\n",
       "      <td>/ORGANIZATION/AMERAKI-INSTITUTE-INC</td>\n",
       "      <td>/funding-round/e47217bd5e21664332d204cdb6e3d1e1</td>\n",
       "      <td>seed</td>\n",
       "      <td>NaN</td>\n",
       "      <td>30-06-2015</td>\n",
       "      <td>20000.0</td>\n",
       "    </tr>\n",
       "  </tbody>\n",
       "</table>\n",
       "</div>"
      ],
      "text/plain": [
       "                                       permalink  \\\n",
       "702                       /Organization/500Shops   \n",
       "1122  /Organization/Ab-Microfinance-Bank-Nigeria   \n",
       "1654                         /Organization/Ace-2   \n",
       "1655                         /Organization/Ace-2   \n",
       "5185         /Organization/Ameraki-Institute-Inc   \n",
       "\n",
       "                              name              homepage_url  \\\n",
       "702                       500Shops       http://500shops.com   \n",
       "1122  AB Microfinance Bank Nigeria  http://ab-mfbnigeria.com   \n",
       "1654    ACE-Africa Courier Express        http://www.ace.ng/   \n",
       "1655    ACE-Africa Courier Express        http://www.ace.ng/   \n",
       "5185         Ameraki Institute Inc                       NaN   \n",
       "\n",
       "                                          category_list     status  \\\n",
       "702                 E-Commerce|Online Shopping|Software  operating   \n",
       "1122                                            Finance  operating   \n",
       "1654          Consumer Goods|Content Delivery|Logistics  operating   \n",
       "1655          Consumer Goods|Content Delivery|Logistics  operating   \n",
       "5185  Application Platforms|Consulting|Corporate Tra...  operating   \n",
       "\n",
       "     country_code state_code region   city  founded_at  \\\n",
       "702           NGA          5  Lagos   Yaba         NaN   \n",
       "1122          NGA          5  Lagos  Lagos         NaN   \n",
       "1654          NGA          5  Lagos  Lagos  04-11-2013   \n",
       "1655          NGA          5  Lagos  Lagos  04-11-2013   \n",
       "5185          NGA          5  Lagos  Lagos  30-06-2014   \n",
       "\n",
       "                       companyname  \\\n",
       "702                       500shops   \n",
       "1122  ab-microfinance-bank-nigeria   \n",
       "1654                         ace-2   \n",
       "1655                         ace-2   \n",
       "5185         ameraki-institute-inc   \n",
       "\n",
       "                               company_permalink  \\\n",
       "702                       /organization/500shops   \n",
       "1122  /organization/ab-microfinance-bank-nigeria   \n",
       "1654                         /organization/ace-2   \n",
       "1655                         /ORGANIZATION/ACE-2   \n",
       "5185         /ORGANIZATION/AMERAKI-INSTITUTE-INC   \n",
       "\n",
       "                              funding_round_permalink funding_round_type  \\\n",
       "702   /funding-round/57582b2508e21c3f8d62d5450e1b0246               seed   \n",
       "1122  /funding-round/2bd16fb6f1c1fcb49d3980434d59f620     debt_financing   \n",
       "1654  /funding-round/e2e17f1c5046cb72181807077f1f35ad               seed   \n",
       "1655  /funding-round/fabe83fe4834e00695d2e39ab6f3e30f               seed   \n",
       "5185  /funding-round/e47217bd5e21664332d204cdb6e3d1e1               seed   \n",
       "\n",
       "     funding_round_code   funded_at  raised_amount_usd  \n",
       "702                 NaN  01-12-2013             5000.0  \n",
       "1122                NaN  19-02-2014          4900000.0  \n",
       "1654                NaN  15-01-2014           715000.0  \n",
       "1655                NaN  16-02-2015          3000000.0  \n",
       "5185                NaN  30-06-2015            20000.0  "
      ]
     },
     "execution_count": 46,
     "metadata": {},
     "output_type": "execute_result"
    }
   ],
   "source": [
    "master_frame.head()"
   ]
  },
  {
   "cell_type": "markdown",
   "metadata": {},
   "source": [
    "Problem 4: Sector Analysis 1\n",
    "This is the third goal of analysis — sector analysis. "
   ]
  },
  {
   "cell_type": "markdown",
   "metadata": {},
   "source": [
    "1. Extract the primary sector of each category list from the category_list\n",
    "column"
   ]
  },
  {
   "cell_type": "code",
   "execution_count": 47,
   "metadata": {},
   "outputs": [
    {
     "data": {
      "text/plain": [
       "0                                                Media\n",
       "1    Application Platforms|Real Time|Social Network...\n",
       "2                                    Apps|Games|Mobile\n",
       "3                                          Curated Web\n",
       "4                                             Software\n",
       "5                                                Games\n",
       "6                                        Biotechnology\n",
       "7                                            Analytics\n",
       "8                                               Mobile\n",
       "9                                           E-Commerce\n",
       "Name: category_list, dtype: object"
      ]
     },
     "execution_count": 47,
     "metadata": {},
     "output_type": "execute_result"
    }
   ],
   "source": [
    "companies['category_list'].head(10)"
   ]
  },
  {
   "cell_type": "code",
   "execution_count": 48,
   "metadata": {},
   "outputs": [
    {
     "data": {
      "text/plain": [
       "'Application Platforms'"
      ]
     },
     "execution_count": 48,
     "metadata": {},
     "output_type": "execute_result"
    }
   ],
   "source": [
    "companies['category_list'][1].split('|')[0]"
   ]
  },
  {
   "cell_type": "code",
   "execution_count": 49,
   "metadata": {},
   "outputs": [],
   "source": [
    "companies=companies.dropna(subset=['category_list'])"
   ]
  },
  {
   "cell_type": "code",
   "execution_count": 50,
   "metadata": {},
   "outputs": [],
   "source": [
    "primarysector=[]\n",
    "for i in companies['category_list']:\n",
    "    primarysector.append(i.split('|')[0])"
   ]
  },
  {
   "cell_type": "code",
   "execution_count": 51,
   "metadata": {},
   "outputs": [
    {
     "data": {
      "text/plain": [
       "array(['Media', 'Application Platforms', 'Apps', 'Curated Web',\n",
       "       'Software', 'Games', 'Biotechnology', 'Analytics', 'Mobile',\n",
       "       'E-Commerce', 'Entertainment', 'Networking', 'Health and Wellness',\n",
       "       'Internet Marketing', 'Education', 'Search', 'Art', 'Beauty',\n",
       "       'Local Businesses', 'Cosmetics', 'Hospitality', 'Health Care',\n",
       "       'Advertising', 'Coffee', 'Enterprise Software', 'Batteries', 'iOS',\n",
       "       'Fashion', 'EdTech', 'Social Travel', 'Sports', 'Real Estate',\n",
       "       'Audio', 'Health Diagnostics', 'Internet', 'Local Search',\n",
       "       'Service Providers', 'Publishing', 'Consumer Goods',\n",
       "       'Manufacturing', 'Augmented Reality', 'Finance', 'Design',\n",
       "       'Public Transportation', 'Travel', 'Baby Accessories', 'Designers',\n",
       "       'Cars', 'Clean Technology', 'Content', 'Chat', 'Cloud Computing',\n",
       "       'Geospatial', 'Music Services', 'Doctors', 'Social Media',\n",
       "       'Non Profit', 'Fitness', 'Landscaping', 'Financial Services',\n",
       "       'Consumers', 'Digital Media', 'News', 'Technology', 'Delivery',\n",
       "       'Big Data', 'Android', 'Blogging Platforms', 'Customer Service',\n",
       "       'Hardware + Software', 'Computers', 'Artificial Intelligence',\n",
       "       'Services', 'DIY', 'Presentations', 'Ad Targeting', 'Credit Cards',\n",
       "       'Discounts', 'Internet of Things', 'Cloud Infrastructure', 'SaaS',\n",
       "       'Messaging', 'Collaboration', 'Interior Design', 'Energy',\n",
       "       'Transportation', 'FinTech', 'Information Technology',\n",
       "       'Consumer Electronics', 'Communities', 'Data Centers',\n",
       "       'Point of Sale', 'Enterprises', 'Bitcoin', 'Project Management',\n",
       "       'Business Services', 'Babies', '3D', '3D Technology',\n",
       "       'Photography', '3D Printing', 'Alumni', 'Drones', 'Automotive',\n",
       "       'Printing', 'Creative', 'Automated Kiosk', 'Business Analytics',\n",
       "       'Music', 'Semiconductors', 'Web Hosting', 'Cloud Data Services',\n",
       "       'Consulting', 'Game', 'Developer APIs', 'App Marketing',\n",
       "       'Physical Security', 'Coupons', 'Security', 'Databases',\n",
       "       'Flash Storage', 'Animal Feed', 'Creative Industries',\n",
       "       'Machine Learning', 'Crowdfunding', 'Commercial Real Estate',\n",
       "       'Online Travel', 'Web Design', 'Anything Capital Intensive',\n",
       "       'Human Resources', 'Office Space', 'Pets', 'Aerospace',\n",
       "       'Online Shopping', 'Distribution', 'Carbon', 'Career Management',\n",
       "       'Leisure', 'Consumer Internet', 'Video', 'Food Processing',\n",
       "       'Healthcare Services', 'Startups', 'Sales and Marketing',\n",
       "       'Accounting', 'Browser Extensions', 'Information Services',\n",
       "       'Concentrated Solar Power', 'B2B', 'Nanotechnology',\n",
       "       'Social Network Media', 'Development Platforms', 'Bicycles',\n",
       "       'Content Creators', 'Broadcasting', 'Brand Marketing',\n",
       "       'Finance Technology', 'Home Decor', 'Crowdsourcing',\n",
       "       'Digital Entertainment', 'Exercise', 'Contact Centers',\n",
       "       'E-Commerce Platforms', 'SEO', 'Chemicals',\n",
       "       'Innovation Engineering', 'Travel & Tourism', 'Limousines',\n",
       "       'Hardware', 'Charity', 'Online Rental', 'Telecommunications',\n",
       "       'Health Care Information Technology', 'Health and Insurance',\n",
       "       'Oil & Gas', 'Audiobooks', 'Communications Infrastructure',\n",
       "       'Distributors', 'Medical', 'Employment', 'M2M', 'Local',\n",
       "       'Home Automation', 'Contact Management', 'Information Security',\n",
       "       'Electrical Distribution', 'Content Discovery', 'All Students',\n",
       "       'Engineering Firms', 'Events', 'Diagnostics',\n",
       "       'Government Innovation', 'Pharmaceuticals', 'Clean Energy',\n",
       "       'Logistics', 'Domains', 'Payments', 'Nonprofits',\n",
       "       'Homeland Security', 'Big Data Analytics', 'Credit', 'Colleges',\n",
       "       'Medical Devices', 'Construction', 'Internet Radio Market',\n",
       "       'Legal', 'Public Relations', 'Self Development',\n",
       "       'Employer Benefits Programs', 'Internet Service Providers',\n",
       "       'Agriculture', 'Advertising Platforms', 'CRM', 'Data Integration',\n",
       "       'Politics', 'Collectibles', 'Application Performance Monitoring',\n",
       "       'Facebook Applications', 'Email', 'Real Time',\n",
       "       'Comparison Shopping', 'Electronics', 'Mobile Security',\n",
       "       'Cloud Management', 'Intellectual Property',\n",
       "       'Marketing Automation', 'Material Science', 'Bio-Pharm',\n",
       "       'Business Intelligence', 'Assisitive Technology', 'Auctions',\n",
       "       'Child Care', 'Enterprise Search', 'Classifieds',\n",
       "       'Content Delivery', 'Business Development', 'DOD/Military',\n",
       "       'Archiving', 'Advice', 'Digital Signage', 'Industrial',\n",
       "       'Advertising Exchanges', 'Cause Marketing',\n",
       "       'Performance Marketing', 'Governments', 'Advanced Materials',\n",
       "       'Renewable Energies', 'Human Resource Automation',\n",
       "       'Adventure Travel', 'Insurance', 'Law Enforcement',\n",
       "       'Advertising Networks', 'Brokers',\n",
       "       'Embedded Hardware and Software', 'Gps', 'Direct Sales',\n",
       "       'Robotics', 'Corporate Training', 'Furniture', 'Consumer Lending',\n",
       "       'Ediscovery', 'Bridging Online and Offline', 'Marketplaces',\n",
       "       'Brewing', 'Commodities', 'Online Scheduling',\n",
       "       'Reviews and Recommendations', 'Gift Card',\n",
       "       'Industrial Automation', 'Lasers', 'Weddings', 'Farming',\n",
       "       'Tracking', 'Lifestyle', 'Developer Tools', 'Hotels', 'Algorithms',\n",
       "       'Biomass Power Generation', 'Content Syndication',\n",
       "       'Location Based Services', 'Loyalty Programs',\n",
       "       'Business Productivity', 'Personalization', 'Match-Making',\n",
       "       'Interface Design', 'iPhone', 'Retail', 'Banking',\n",
       "       'Innovation Management', 'Console Gaming', 'Mining Technologies',\n",
       "       'Hospitals', 'Risk Management', 'Network Security', 'Data Mining',\n",
       "       'Craft Beer', 'Cloud Security', 'Charter Schools', 'Architecture',\n",
       "       'Document Management', 'Consumer Behavior', 'Defense', 'Maps',\n",
       "       'Specialty Chemicals', 'iPad', 'Journalism',\n",
       "       'Communications Hardware', 'Fantasy Sports', 'Social Commerce',\n",
       "       'Investment Management', 'BPO Services', 'Language Learning',\n",
       "       'Boating Industry', 'Gambling', 'Active Lifestyle', 'Watch',\n",
       "       'Wine And Spirits', 'Cannabis', 'Dietary Supplements', 'Cooking',\n",
       "       'Estimation and Quoting', 'Environmental Innovation', 'Graphics',\n",
       "       'Small and Medium Businesses', 'Electric Vehicles',\n",
       "       'Specialty Foods', 'Restaurants', 'Kids', 'Energy Management',\n",
       "       'Waste Management', 'Sensors', 'Fleet Management',\n",
       "       'Commercial Solar', 'Energy Efficiency', 'Biometrics',\n",
       "       'Recruiting', 'Incubators', 'Corporate Wellness', 'Angels',\n",
       "       'Bioinformatics', 'Online Dating', 'Identity',\n",
       "       'Collaborative Consumption', 'Email Marketing', 'VoIP', 'Biofuels',\n",
       "       'Gold', 'Reputation', 'Film Production', 'Property Management',\n",
       "       'Ticketing', 'Wireless', 'Enterprise Security',\n",
       "       'Alternative Medicine', 'Real Estate Investors',\n",
       "       'Social Fundraising', 'App Discovery', 'Productivity Software',\n",
       "       'App Stores', 'Meeting Software', 'Entrepreneur', 'Opinions',\n",
       "       'Cyber Security', 'Social Television', 'All Markets',\n",
       "       'Corporate IT', 'Dental', 'Enterprise Application', 'Aquaculture',\n",
       "       'Water', 'Billing', 'Fraud Detection', 'Gamification', 'CAD',\n",
       "       'Therapeutics', 'Photo Sharing', 'Data Security',\n",
       "       'Local Based Services', 'Data Privacy', 'Social Business',\n",
       "       'Artists Globally', 'Fuels', 'Diabetes', 'Oil and Gas',\n",
       "       'Intelligent Systems', 'Logistics Company', 'English-Speaking',\n",
       "       'College Campuses', 'Intellectual Asset Management', 'Simulation',\n",
       "       'Casual Games', 'Event Management', 'Educational Games',\n",
       "       'Sporting Goods', 'Guides', 'Licensing', 'Film', 'Charities',\n",
       "       'Identity Management', 'Home & Garden', 'Lead Generation',\n",
       "       'Lead Management', 'Auto', 'Sales Automation',\n",
       "       'Certification Test', 'Heavy Industry', 'Private School',\n",
       "       'Minerals', 'Infrastructure', 'Entertainment Industry',\n",
       "       'Public Safety', 'Life Sciences', 'IT Management', 'Open Source',\n",
       "       'Mobile Software Tools', 'File Sharing', 'Mobile Commerce',\n",
       "       'Families', 'Social Media Platforms', 'Lifestyle Products', 'ICT',\n",
       "       'Custom Retail', 'Venture Capital', 'Clinical Trials',\n",
       "       'Musical Instruments', 'Market Research', 'Wholesale', 'SNS',\n",
       "       'Navigation', 'Video Games', 'Freelancers',\n",
       "       'Deep Information Technology', 'Private Social Networking',\n",
       "       'Career Planning', 'Internet Infrastructure', 'Organic Food',\n",
       "       'Low Bid Auctions', 'Coworking', 'E-Books', 'Mobile Games',\n",
       "       'Celebrity', 'Local Advertising', 'Realtors', 'Mobility',\n",
       "       'FreetoPlay Gaming', 'Building Products', 'Customer Support Tools',\n",
       "       'Genetic Testing', 'College Recruiting', 'Cyber',\n",
       "       'Emerging Markets', 'Toys', 'Outsourcing',\n",
       "       'General Public Worldwide', 'Gadget', 'Professional Services',\n",
       "       'Service Industries', 'Direct Marketing', 'Groceries',\n",
       "       'IT and Cybersecurity', 'Generation Y-Z', 'Outdoors', 'Fruit',\n",
       "       'New Technologies', 'Recreation', 'Mobile Social', 'Shopping',\n",
       "       'Social Bookmarking', 'EBooks', 'Comics', 'Image Recognition',\n",
       "       'Non-Tech', 'Product Development Services', 'K-12 Education',\n",
       "       'Spas', 'Soccer', 'Lifestyle Businesses', 'Mass Customization',\n",
       "       'Product Design', 'Assisted Living', 'Wearables', 'Social News',\n",
       "       'Rental Housing', 'Flash Sales', 'Mobile Payments', 'Trading',\n",
       "       'Digital Rights Management', 'Staffing Firms',\n",
       "       'Optical Communications', 'EDA Tools', 'Parking', 'Linux',\n",
       "       'Energy Storage', 'Data Visualization', 'Elder Care',\n",
       "       'Electronic Health Records', 'Baby Boomers', 'Cable',\n",
       "       'Enterprise Hardware', 'Social Media Advertising',\n",
       "       'Personal Finance', 'Video Streaming', 'Darknet',\n",
       "       'Online Identity', 'Knowledge Management',\n",
       "       'Business Information Systems', 'New Product Development',\n",
       "       'Computer Vision', 'Health Services Industry', 'Email Newsletters',\n",
       "       'Utilities', 'China Internet', 'Medical Professionals', 'Shoes',\n",
       "       'Jewelry', 'Tea', 'Systems', 'Religion',\n",
       "       'Online Video Advertising', 'PaaS', 'Parenting', 'Forums',\n",
       "       'Civil Engineers', 'Air Pollution Control', 'Natural Gas Uses',\n",
       "       'Predictive Analytics', 'Natural Language Processing',\n",
       "       'Cloud-Based Music', 'Internet Technology', 'IaaS',\n",
       "       'University Students', 'Web Development', 'Optimization', 'Fmcg',\n",
       "       'Online Gaming', 'Pervasive Computing', 'Storage', 'Nightlife',\n",
       "       'Lighting', 'Incentives', 'Adaptive Equipment',\n",
       "       'Postal and Courier Services', 'Fertility', 'Enterprise 2.0',\n",
       "       'Multi-level Marketing', 'Concerts', 'Data Center Automation',\n",
       "       'Call Center Automation', 'P2P Money Transfer', 'mHealth',\n",
       "       'Tourism', 'SexTech', 'Contests', 'Financial Exchanges',\n",
       "       'Natural Resources', 'Data Center Infrastructure', 'Recycling',\n",
       "       'Retail Technology', 'Humanitarian', 'Online Education',\n",
       "       'Governance', 'Funeral Industry', 'Gift Exchange', 'Social CRM',\n",
       "       'Mobile Health', 'Online Reservations', 'Privacy',\n",
       "       'Mobile Devices', 'Professional Networking', 'Game Mechanics',\n",
       "       'Field Support Services', 'Home Owners', 'Social + Mobile + Local',\n",
       "       'Freemium', 'Mechanical Solutions', 'Peer-to-Peer',\n",
       "       'Personal Branding', 'Mobile Video', 'Group SMS', 'Textiles',\n",
       "       'Tutoring', 'Plumbers', 'Shipping', 'Supply Chain Management',\n",
       "       'Photo Editing', 'Solar', 'B2B Express Delivery', 'Translation',\n",
       "       'In-Flight Entertainment', 'Displays', 'Internet TV',\n",
       "       'Skill Assessment', 'Gas', 'Semiconductor Manufacturing Equipment',\n",
       "       'Clean Technology IT', 'Synchronization', 'Farmers Market',\n",
       "       'Senior Citizens', 'Skill Gaming', 'Neuroscience',\n",
       "       'Unmanned Air Systems', 'Green', 'Building Owners', 'Eyewear',\n",
       "       'Human Computer Interaction', 'Fuel Cells', 'Demographies',\n",
       "       'Social Media Marketing', 'Monetization', 'Racing',\n",
       "       'Mobile Shopping', 'High Schools', 'Specialty Retail',\n",
       "       'Home Renovation', 'Business Travelers', 'Mobile Analytics',\n",
       "       'Speech Recognition', 'Training', 'Swimming', 'Hedge Funds',\n",
       "       'Interest Graph', 'Social Games', 'Stock Exchanges', 'Oil',\n",
       "       'Television', 'Registrars', 'Polling', 'Flowers',\n",
       "       'Vending and Concessions', 'RFID', 'Personal Health',\n",
       "       'Golf Equipment', 'Mobile Advertising', 'Handmade', 'Smart Grid',\n",
       "       'Price Comparison', 'Biotechnology and Semiconductor',\n",
       "       'Mobile Enterprise', 'Disruptive Models', 'Resorts',\n",
       "       'Vacation Rentals', 'Portals', 'Search Marketing', 'Google Glass',\n",
       "       'Group Buying', 'Web Browsers', 'High School Students',\n",
       "       'Shared Services', 'Debt Collecting', 'Indoor Positioning',\n",
       "       'Local Commerce', 'Video on Demand', 'Video Conferencing',\n",
       "       'Early-Stage Technology', 'Organic', 'Nutrition',\n",
       "       'Rapidly Expanding', 'High Tech', 'Theatre', 'Social Recruiting',\n",
       "       'Web Tools', 'Infrastructure Builders',\n",
       "       'Enterprise Resource Planning', 'Group Email', 'Edutainment',\n",
       "       'Music Education', 'Mens Specific', 'Gift Registries',\n",
       "       'Baby Safety', 'Renewable Tech', 'Social Media Management',\n",
       "       'Lotteries', 'Green Consumer Goods', 'Cosmetic Surgery',\n",
       "       'Face Recognition', 'Energy IT', 'Kinect', 'Homeless Shelter',\n",
       "       'Space Travel', 'Moneymaking', 'Product Search', 'Universities',\n",
       "       'Pre Seed', 'MicroBlogging', 'Physicians', 'Direct Advertising',\n",
       "       'Senior Health', 'Procurement', 'QR Codes', 'Subscription Service',\n",
       "       'Independent Pharmacies', 'Impact Investing', 'Sex Industry',\n",
       "       'Psychology', 'Music Venues', 'Promotional',\n",
       "       'Independent Music Labels', 'Women', 'Testing', 'GreenTech',\n",
       "       'Mobile Infrastructure', 'Retirement', 'Enterprise Purchasing',\n",
       "       'Subscription Businesses', 'Virtual Workforces', 'Personal Data',\n",
       "       'Young Adults', 'Lingerie', 'Film Distribution', 'Surveys',\n",
       "       'Water Purification', 'User Experience Design', 'Taxis', 'Indians',\n",
       "       'Veterinary', 'Social Buying', 'Ride Sharing', 'Experience Design',\n",
       "       'Musicians', 'Mobile Emergency&Health', 'Usability',\n",
       "       'User Interface', 'Sponsorship', 'Productivity', 'Gay & Lesbian',\n",
       "       'Q&A', 'Micro-Enterprises', 'Task Management'], dtype=object)"
      ]
     },
     "execution_count": 51,
     "metadata": {},
     "output_type": "execute_result"
    }
   ],
   "source": [
    "companies['category_list']=primarysector\n",
    "companies['category_list'].unique()"
   ]
  },
  {
   "cell_type": "code",
   "execution_count": 52,
   "metadata": {},
   "outputs": [],
   "source": [
    "mapping=pd.read_csv('mapping.csv')"
   ]
  },
  {
   "cell_type": "code",
   "execution_count": 53,
   "metadata": {},
   "outputs": [
    {
     "data": {
      "text/plain": [
       "Index(['category_list', 'Automotive & Sports', 'Blanks',\n",
       "       'Cleantech / Semiconductors', 'Entertainment', 'Health',\n",
       "       'Manufacturing', 'News, Search and Messaging', 'Others',\n",
       "       'Social, Finance, Analytics, Advertising'],\n",
       "      dtype='object')"
      ]
     },
     "execution_count": 53,
     "metadata": {},
     "output_type": "execute_result"
    }
   ],
   "source": [
    "mapping.columns"
   ]
  },
  {
   "cell_type": "code",
   "execution_count": 54,
   "metadata": {},
   "outputs": [
    {
     "data": {
      "text/html": [
       "<div>\n",
       "<style scoped>\n",
       "    .dataframe tbody tr th:only-of-type {\n",
       "        vertical-align: middle;\n",
       "    }\n",
       "\n",
       "    .dataframe tbody tr th {\n",
       "        vertical-align: top;\n",
       "    }\n",
       "\n",
       "    .dataframe thead th {\n",
       "        text-align: right;\n",
       "    }\n",
       "</style>\n",
       "<table border=\"1\" class=\"dataframe\">\n",
       "  <thead>\n",
       "    <tr style=\"text-align: right;\">\n",
       "      <th></th>\n",
       "      <th>Automotive &amp; Sports</th>\n",
       "      <th>Blanks</th>\n",
       "      <th>Cleantech / Semiconductors</th>\n",
       "      <th>Entertainment</th>\n",
       "      <th>Health</th>\n",
       "      <th>Manufacturing</th>\n",
       "      <th>News, Search and Messaging</th>\n",
       "      <th>Others</th>\n",
       "      <th>Social, Finance, Analytics, Advertising</th>\n",
       "    </tr>\n",
       "    <tr>\n",
       "      <th>category_list</th>\n",
       "      <th></th>\n",
       "      <th></th>\n",
       "      <th></th>\n",
       "      <th></th>\n",
       "      <th></th>\n",
       "      <th></th>\n",
       "      <th></th>\n",
       "      <th></th>\n",
       "      <th></th>\n",
       "    </tr>\n",
       "  </thead>\n",
       "  <tbody>\n",
       "    <tr>\n",
       "      <th>NaN</th>\n",
       "      <td>0</td>\n",
       "      <td>1</td>\n",
       "      <td>0</td>\n",
       "      <td>0</td>\n",
       "      <td>0</td>\n",
       "      <td>0</td>\n",
       "      <td>0</td>\n",
       "      <td>0</td>\n",
       "      <td>0</td>\n",
       "    </tr>\n",
       "    <tr>\n",
       "      <th>3D</th>\n",
       "      <td>0</td>\n",
       "      <td>0</td>\n",
       "      <td>0</td>\n",
       "      <td>0</td>\n",
       "      <td>0</td>\n",
       "      <td>1</td>\n",
       "      <td>0</td>\n",
       "      <td>0</td>\n",
       "      <td>0</td>\n",
       "    </tr>\n",
       "  </tbody>\n",
       "</table>\n",
       "</div>"
      ],
      "text/plain": [
       "               Automotive & Sports  Blanks  Cleantech / Semiconductors  \\\n",
       "category_list                                                            \n",
       "NaN                              0       1                           0   \n",
       "3D                               0       0                           0   \n",
       "\n",
       "               Entertainment  Health  Manufacturing  \\\n",
       "category_list                                         \n",
       "NaN                        0       0              0   \n",
       "3D                         0       0              1   \n",
       "\n",
       "               News, Search and Messaging  Others  \\\n",
       "category_list                                       \n",
       "NaN                                     0       0   \n",
       "3D                                      0       0   \n",
       "\n",
       "               Social, Finance, Analytics, Advertising  \n",
       "category_list                                           \n",
       "NaN                                                  0  \n",
       "3D                                                   0  "
      ]
     },
     "execution_count": 54,
     "metadata": {},
     "output_type": "execute_result"
    }
   ],
   "source": [
    "mapping = mapping.set_index('category_list')\n",
    "mapping.head(2)"
   ]
  },
  {
   "cell_type": "code",
   "execution_count": 55,
   "metadata": {},
   "outputs": [],
   "source": [
    "for i in mapping.columns:\n",
    "    mapping[mapping[i]==1] = i"
   ]
  },
  {
   "cell_type": "code",
   "execution_count": 56,
   "metadata": {},
   "outputs": [
    {
     "data": {
      "text/html": [
       "<div>\n",
       "<style scoped>\n",
       "    .dataframe tbody tr th:only-of-type {\n",
       "        vertical-align: middle;\n",
       "    }\n",
       "\n",
       "    .dataframe tbody tr th {\n",
       "        vertical-align: top;\n",
       "    }\n",
       "\n",
       "    .dataframe thead th {\n",
       "        text-align: right;\n",
       "    }\n",
       "</style>\n",
       "<table border=\"1\" class=\"dataframe\">\n",
       "  <thead>\n",
       "    <tr style=\"text-align: right;\">\n",
       "      <th></th>\n",
       "      <th>category_list</th>\n",
       "      <th>Automotive &amp; Sports</th>\n",
       "      <th>Blanks</th>\n",
       "      <th>Cleantech / Semiconductors</th>\n",
       "      <th>Entertainment</th>\n",
       "      <th>Health</th>\n",
       "      <th>Manufacturing</th>\n",
       "      <th>News, Search and Messaging</th>\n",
       "      <th>Others</th>\n",
       "      <th>Social, Finance, Analytics, Advertising</th>\n",
       "    </tr>\n",
       "  </thead>\n",
       "  <tbody>\n",
       "    <tr>\n",
       "      <th>0</th>\n",
       "      <td>NaN</td>\n",
       "      <td>Blanks</td>\n",
       "      <td>Blanks</td>\n",
       "      <td>Blanks</td>\n",
       "      <td>Blanks</td>\n",
       "      <td>Blanks</td>\n",
       "      <td>Blanks</td>\n",
       "      <td>Blanks</td>\n",
       "      <td>Blanks</td>\n",
       "      <td>Blanks</td>\n",
       "    </tr>\n",
       "    <tr>\n",
       "      <th>1</th>\n",
       "      <td>3D</td>\n",
       "      <td>Manufacturing</td>\n",
       "      <td>Manufacturing</td>\n",
       "      <td>Manufacturing</td>\n",
       "      <td>Manufacturing</td>\n",
       "      <td>Manufacturing</td>\n",
       "      <td>Manufacturing</td>\n",
       "      <td>Manufacturing</td>\n",
       "      <td>Manufacturing</td>\n",
       "      <td>Manufacturing</td>\n",
       "    </tr>\n",
       "  </tbody>\n",
       "</table>\n",
       "</div>"
      ],
      "text/plain": [
       "  category_list Automotive & Sports         Blanks Cleantech / Semiconductors  \\\n",
       "0           NaN              Blanks         Blanks                     Blanks   \n",
       "1            3D       Manufacturing  Manufacturing              Manufacturing   \n",
       "\n",
       "   Entertainment         Health  Manufacturing News, Search and Messaging  \\\n",
       "0         Blanks         Blanks         Blanks                     Blanks   \n",
       "1  Manufacturing  Manufacturing  Manufacturing              Manufacturing   \n",
       "\n",
       "          Others Social, Finance, Analytics, Advertising  \n",
       "0         Blanks                                  Blanks  \n",
       "1  Manufacturing                           Manufacturing  "
      ]
     },
     "execution_count": 56,
     "metadata": {},
     "output_type": "execute_result"
    }
   ],
   "source": [
    "mapping = mapping.reset_index()\n",
    "mapping.head(2)"
   ]
  },
  {
   "cell_type": "code",
   "execution_count": 57,
   "metadata": {},
   "outputs": [
    {
     "data": {
      "text/html": [
       "<div>\n",
       "<style scoped>\n",
       "    .dataframe tbody tr th:only-of-type {\n",
       "        vertical-align: middle;\n",
       "    }\n",
       "\n",
       "    .dataframe tbody tr th {\n",
       "        vertical-align: top;\n",
       "    }\n",
       "\n",
       "    .dataframe thead th {\n",
       "        text-align: right;\n",
       "    }\n",
       "</style>\n",
       "<table border=\"1\" class=\"dataframe\">\n",
       "  <thead>\n",
       "    <tr style=\"text-align: right;\">\n",
       "      <th></th>\n",
       "      <th>category_list</th>\n",
       "      <th>Mapped output</th>\n",
       "    </tr>\n",
       "  </thead>\n",
       "  <tbody>\n",
       "    <tr>\n",
       "      <th>0</th>\n",
       "      <td>NaN</td>\n",
       "      <td>Blanks</td>\n",
       "    </tr>\n",
       "    <tr>\n",
       "      <th>1</th>\n",
       "      <td>3D</td>\n",
       "      <td>Manufacturing</td>\n",
       "    </tr>\n",
       "    <tr>\n",
       "      <th>2</th>\n",
       "      <td>3D Printing</td>\n",
       "      <td>Manufacturing</td>\n",
       "    </tr>\n",
       "    <tr>\n",
       "      <th>3</th>\n",
       "      <td>3D Technology</td>\n",
       "      <td>Manufacturing</td>\n",
       "    </tr>\n",
       "    <tr>\n",
       "      <th>4</th>\n",
       "      <td>Accounting</td>\n",
       "      <td>Social, Finance, Analytics, Advertising</td>\n",
       "    </tr>\n",
       "    <tr>\n",
       "      <th>5</th>\n",
       "      <td>Active Lifestyle</td>\n",
       "      <td>Health</td>\n",
       "    </tr>\n",
       "    <tr>\n",
       "      <th>6</th>\n",
       "      <td>Ad Targeting</td>\n",
       "      <td>Social, Finance, Analytics, Advertising</td>\n",
       "    </tr>\n",
       "    <tr>\n",
       "      <th>7</th>\n",
       "      <td>Advanced Materials</td>\n",
       "      <td>Manufacturing</td>\n",
       "    </tr>\n",
       "    <tr>\n",
       "      <th>8</th>\n",
       "      <td>Adventure Travel</td>\n",
       "      <td>Automotive &amp; Sports</td>\n",
       "    </tr>\n",
       "    <tr>\n",
       "      <th>9</th>\n",
       "      <td>Advertising</td>\n",
       "      <td>Social, Finance, Analytics, Advertising</td>\n",
       "    </tr>\n",
       "  </tbody>\n",
       "</table>\n",
       "</div>"
      ],
      "text/plain": [
       "        category_list                            Mapped output\n",
       "0                 NaN                                   Blanks\n",
       "1                  3D                            Manufacturing\n",
       "2         3D Printing                            Manufacturing\n",
       "3       3D Technology                            Manufacturing\n",
       "4          Accounting  Social, Finance, Analytics, Advertising\n",
       "5    Active Lifestyle                                   Health\n",
       "6        Ad Targeting  Social, Finance, Analytics, Advertising\n",
       "7  Advanced Materials                            Manufacturing\n",
       "8    Adventure Travel                      Automotive & Sports\n",
       "9         Advertising  Social, Finance, Analytics, Advertising"
      ]
     },
     "execution_count": 57,
     "metadata": {},
     "output_type": "execute_result"
    }
   ],
   "source": [
    "mapping = mapping.iloc[:,:2]\n",
    "mapping.columns=['category_list','Mapped output']\n",
    "mapping.head(10)"
   ]
  },
  {
   "cell_type": "code",
   "execution_count": 58,
   "metadata": {},
   "outputs": [
    {
     "data": {
      "text/plain": [
       "(688, 2)"
      ]
     },
     "execution_count": 58,
     "metadata": {},
     "output_type": "execute_result"
    }
   ],
   "source": [
    "mapping.shape"
   ]
  },
  {
   "cell_type": "code",
   "execution_count": 59,
   "metadata": {},
   "outputs": [
    {
     "data": {
      "text/html": [
       "<div>\n",
       "<style scoped>\n",
       "    .dataframe tbody tr th:only-of-type {\n",
       "        vertical-align: middle;\n",
       "    }\n",
       "\n",
       "    .dataframe tbody tr th {\n",
       "        vertical-align: top;\n",
       "    }\n",
       "\n",
       "    .dataframe thead th {\n",
       "        text-align: right;\n",
       "    }\n",
       "</style>\n",
       "<table border=\"1\" class=\"dataframe\">\n",
       "  <thead>\n",
       "    <tr style=\"text-align: right;\">\n",
       "      <th></th>\n",
       "      <th>permalink</th>\n",
       "      <th>name</th>\n",
       "      <th>homepage_url</th>\n",
       "      <th>category_list</th>\n",
       "      <th>status</th>\n",
       "      <th>country_code</th>\n",
       "      <th>state_code</th>\n",
       "      <th>region</th>\n",
       "      <th>city</th>\n",
       "      <th>founded_at</th>\n",
       "      <th>companyname</th>\n",
       "      <th>company_permalink</th>\n",
       "      <th>funding_round_permalink</th>\n",
       "      <th>funding_round_type</th>\n",
       "      <th>funding_round_code</th>\n",
       "      <th>funded_at</th>\n",
       "      <th>raised_amount_usd</th>\n",
       "      <th>Mapped output</th>\n",
       "    </tr>\n",
       "  </thead>\n",
       "  <tbody>\n",
       "    <tr>\n",
       "      <th>0</th>\n",
       "      <td>/Organization/500Shops</td>\n",
       "      <td>500Shops</td>\n",
       "      <td>http://500shops.com</td>\n",
       "      <td>E-Commerce|Online Shopping|Software</td>\n",
       "      <td>operating</td>\n",
       "      <td>NGA</td>\n",
       "      <td>5</td>\n",
       "      <td>Lagos</td>\n",
       "      <td>Yaba</td>\n",
       "      <td>NaN</td>\n",
       "      <td>500shops</td>\n",
       "      <td>/organization/500shops</td>\n",
       "      <td>/funding-round/57582b2508e21c3f8d62d5450e1b0246</td>\n",
       "      <td>seed</td>\n",
       "      <td>NaN</td>\n",
       "      <td>01-12-2013</td>\n",
       "      <td>5000.0</td>\n",
       "      <td>NaN</td>\n",
       "    </tr>\n",
       "    <tr>\n",
       "      <th>1</th>\n",
       "      <td>/Organization/Ab-Microfinance-Bank-Nigeria</td>\n",
       "      <td>AB Microfinance Bank Nigeria</td>\n",
       "      <td>http://ab-mfbnigeria.com</td>\n",
       "      <td>Finance</td>\n",
       "      <td>operating</td>\n",
       "      <td>NGA</td>\n",
       "      <td>5</td>\n",
       "      <td>Lagos</td>\n",
       "      <td>Lagos</td>\n",
       "      <td>NaN</td>\n",
       "      <td>ab-microfinance-bank-nigeria</td>\n",
       "      <td>/organization/ab-microfinance-bank-nigeria</td>\n",
       "      <td>/funding-round/2bd16fb6f1c1fcb49d3980434d59f620</td>\n",
       "      <td>debt_financing</td>\n",
       "      <td>NaN</td>\n",
       "      <td>19-02-2014</td>\n",
       "      <td>4900000.0</td>\n",
       "      <td>NaN</td>\n",
       "    </tr>\n",
       "    <tr>\n",
       "      <th>2</th>\n",
       "      <td>/Organization/Ace-2</td>\n",
       "      <td>ACE-Africa Courier Express</td>\n",
       "      <td>http://www.ace.ng/</td>\n",
       "      <td>Consumer Goods|Content Delivery|Logistics</td>\n",
       "      <td>operating</td>\n",
       "      <td>NGA</td>\n",
       "      <td>5</td>\n",
       "      <td>Lagos</td>\n",
       "      <td>Lagos</td>\n",
       "      <td>04-11-2013</td>\n",
       "      <td>ace-2</td>\n",
       "      <td>/organization/ace-2</td>\n",
       "      <td>/funding-round/e2e17f1c5046cb72181807077f1f35ad</td>\n",
       "      <td>seed</td>\n",
       "      <td>NaN</td>\n",
       "      <td>15-01-2014</td>\n",
       "      <td>715000.0</td>\n",
       "      <td>NaN</td>\n",
       "    </tr>\n",
       "    <tr>\n",
       "      <th>3</th>\n",
       "      <td>/Organization/Ace-2</td>\n",
       "      <td>ACE-Africa Courier Express</td>\n",
       "      <td>http://www.ace.ng/</td>\n",
       "      <td>Consumer Goods|Content Delivery|Logistics</td>\n",
       "      <td>operating</td>\n",
       "      <td>NGA</td>\n",
       "      <td>5</td>\n",
       "      <td>Lagos</td>\n",
       "      <td>Lagos</td>\n",
       "      <td>04-11-2013</td>\n",
       "      <td>ace-2</td>\n",
       "      <td>/ORGANIZATION/ACE-2</td>\n",
       "      <td>/funding-round/fabe83fe4834e00695d2e39ab6f3e30f</td>\n",
       "      <td>seed</td>\n",
       "      <td>NaN</td>\n",
       "      <td>16-02-2015</td>\n",
       "      <td>3000000.0</td>\n",
       "      <td>NaN</td>\n",
       "    </tr>\n",
       "    <tr>\n",
       "      <th>4</th>\n",
       "      <td>/Organization/Ameraki-Institute-Inc</td>\n",
       "      <td>Ameraki Institute Inc</td>\n",
       "      <td>NaN</td>\n",
       "      <td>Application Platforms|Consulting|Corporate Tra...</td>\n",
       "      <td>operating</td>\n",
       "      <td>NGA</td>\n",
       "      <td>5</td>\n",
       "      <td>Lagos</td>\n",
       "      <td>Lagos</td>\n",
       "      <td>30-06-2014</td>\n",
       "      <td>ameraki-institute-inc</td>\n",
       "      <td>/ORGANIZATION/AMERAKI-INSTITUTE-INC</td>\n",
       "      <td>/funding-round/e47217bd5e21664332d204cdb6e3d1e1</td>\n",
       "      <td>seed</td>\n",
       "      <td>NaN</td>\n",
       "      <td>30-06-2015</td>\n",
       "      <td>20000.0</td>\n",
       "      <td>NaN</td>\n",
       "    </tr>\n",
       "  </tbody>\n",
       "</table>\n",
       "</div>"
      ],
      "text/plain": [
       "                                    permalink                          name  \\\n",
       "0                      /Organization/500Shops                      500Shops   \n",
       "1  /Organization/Ab-Microfinance-Bank-Nigeria  AB Microfinance Bank Nigeria   \n",
       "2                         /Organization/Ace-2    ACE-Africa Courier Express   \n",
       "3                         /Organization/Ace-2    ACE-Africa Courier Express   \n",
       "4         /Organization/Ameraki-Institute-Inc         Ameraki Institute Inc   \n",
       "\n",
       "               homepage_url  \\\n",
       "0       http://500shops.com   \n",
       "1  http://ab-mfbnigeria.com   \n",
       "2        http://www.ace.ng/   \n",
       "3        http://www.ace.ng/   \n",
       "4                       NaN   \n",
       "\n",
       "                                       category_list     status country_code  \\\n",
       "0                E-Commerce|Online Shopping|Software  operating          NGA   \n",
       "1                                            Finance  operating          NGA   \n",
       "2          Consumer Goods|Content Delivery|Logistics  operating          NGA   \n",
       "3          Consumer Goods|Content Delivery|Logistics  operating          NGA   \n",
       "4  Application Platforms|Consulting|Corporate Tra...  operating          NGA   \n",
       "\n",
       "  state_code region   city  founded_at                   companyname  \\\n",
       "0          5  Lagos   Yaba         NaN                      500shops   \n",
       "1          5  Lagos  Lagos         NaN  ab-microfinance-bank-nigeria   \n",
       "2          5  Lagos  Lagos  04-11-2013                         ace-2   \n",
       "3          5  Lagos  Lagos  04-11-2013                         ace-2   \n",
       "4          5  Lagos  Lagos  30-06-2014         ameraki-institute-inc   \n",
       "\n",
       "                            company_permalink  \\\n",
       "0                      /organization/500shops   \n",
       "1  /organization/ab-microfinance-bank-nigeria   \n",
       "2                         /organization/ace-2   \n",
       "3                         /ORGANIZATION/ACE-2   \n",
       "4         /ORGANIZATION/AMERAKI-INSTITUTE-INC   \n",
       "\n",
       "                           funding_round_permalink funding_round_type  \\\n",
       "0  /funding-round/57582b2508e21c3f8d62d5450e1b0246               seed   \n",
       "1  /funding-round/2bd16fb6f1c1fcb49d3980434d59f620     debt_financing   \n",
       "2  /funding-round/e2e17f1c5046cb72181807077f1f35ad               seed   \n",
       "3  /funding-round/fabe83fe4834e00695d2e39ab6f3e30f               seed   \n",
       "4  /funding-round/e47217bd5e21664332d204cdb6e3d1e1               seed   \n",
       "\n",
       "  funding_round_code   funded_at  raised_amount_usd Mapped output  \n",
       "0                NaN  01-12-2013             5000.0           NaN  \n",
       "1                NaN  19-02-2014          4900000.0           NaN  \n",
       "2                NaN  15-01-2014           715000.0           NaN  \n",
       "3                NaN  16-02-2015          3000000.0           NaN  \n",
       "4                NaN  30-06-2015            20000.0           NaN  "
      ]
     },
     "execution_count": 59,
     "metadata": {},
     "output_type": "execute_result"
    }
   ],
   "source": [
    "master_frame = master_frame.merge(mapping, how = 'left', on ='category_list')\n",
    "master_frame.head()"
   ]
  },
  {
   "cell_type": "code",
   "execution_count": 60,
   "metadata": {},
   "outputs": [
    {
     "data": {
      "text/plain": [
       "Index(['permalink', 'name', 'homepage_url', 'category_list', 'status',\n",
       "       'country_code', 'state_code', 'region', 'city', 'founded_at',\n",
       "       'companyname', 'company_permalink', 'funding_round_permalink',\n",
       "       'funding_round_type', 'funding_round_code', 'funded_at',\n",
       "       'raised_amount_usd', 'Mapped output'],\n",
       "      dtype='object')"
      ]
     },
     "execution_count": 60,
     "metadata": {},
     "output_type": "execute_result"
    }
   ],
   "source": [
    "master_frame.columns"
   ]
  },
  {
   "cell_type": "markdown",
   "metadata": {},
   "source": [
    "Problem 5: Sector Analysis 2 "
   ]
  },
  {
   "cell_type": "markdown",
   "metadata": {},
   "source": [
    "1. Create three separate data frames D1, D2 and D3 for each of the three\n",
    "countries containing the observations of funding type FT falling within the 5-15\n",
    "million USD range. The three data frames should contain:"
   ]
  },
  {
   "cell_type": "code",
   "execution_count": 61,
   "metadata": {},
   "outputs": [],
   "source": [
    "# lets drop all rows whoes investment is not between 5 and 15 million\n",
    "master_frame = master_frame.drop(master_frame[(master_frame.raised_amount_usd < 5000000)].index)\n",
    "master_frame = master_frame.drop(master_frame[(master_frame.raised_amount_usd > 15000000)].index)\n",
    "\n",
    "d1 = master_frame[master_frame['country_code'] == 'BMU']\n",
    "d2 = master_frame[master_frame['country_code'] == 'NGA']\n",
    "d3 = master_frame[master_frame['country_code'] == 'TAN']"
   ]
  },
  {
   "cell_type": "code",
   "execution_count": 62,
   "metadata": {},
   "outputs": [
    {
     "data": {
      "text/plain": [
       "2"
      ]
     },
     "execution_count": 62,
     "metadata": {},
     "output_type": "execute_result"
    }
   ],
   "source": [
    "len(d1)"
   ]
  },
  {
   "cell_type": "code",
   "execution_count": 63,
   "metadata": {},
   "outputs": [
    {
     "data": {
      "text/plain": [
       "31"
      ]
     },
     "execution_count": 63,
     "metadata": {},
     "output_type": "execute_result"
    }
   ],
   "source": [
    "len(d2)"
   ]
  },
  {
   "cell_type": "code",
   "execution_count": 64,
   "metadata": {},
   "outputs": [
    {
     "data": {
      "text/plain": [
       "5"
      ]
     },
     "execution_count": 64,
     "metadata": {},
     "output_type": "execute_result"
    }
   ],
   "source": [
    "len(d3)"
   ]
  },
  {
   "cell_type": "code",
   "execution_count": 65,
   "metadata": {},
   "outputs": [
    {
     "data": {
      "text/plain": [
       "1"
      ]
     },
     "execution_count": 65,
     "metadata": {},
     "output_type": "execute_result"
    }
   ],
   "source": [
    "d1['raised_amount_usd'].count()"
   ]
  },
  {
   "cell_type": "code",
   "execution_count": 66,
   "metadata": {},
   "outputs": [
    {
     "data": {
      "text/plain": [
       "15000000.0"
      ]
     },
     "execution_count": 66,
     "metadata": {},
     "output_type": "execute_result"
    }
   ],
   "source": [
    "d1['raised_amount_usd'].sum()"
   ]
  },
  {
   "cell_type": "code",
   "execution_count": 67,
   "metadata": {},
   "outputs": [
    {
     "data": {
      "text/plain": [
       "15000000.0"
      ]
     },
     "execution_count": 67,
     "metadata": {},
     "output_type": "execute_result"
    }
   ],
   "source": [
    "d1['raised_amount_usd'].median()"
   ]
  },
  {
   "cell_type": "code",
   "execution_count": 68,
   "metadata": {},
   "outputs": [
    {
     "data": {
      "text/plain": [
       "15000000.0"
      ]
     },
     "execution_count": 68,
     "metadata": {},
     "output_type": "execute_result"
    }
   ],
   "source": [
    "d1['raised_amount_usd'].mean()"
   ]
  },
  {
   "cell_type": "code",
   "execution_count": 69,
   "metadata": {},
   "outputs": [
    {
     "data": {
      "text/html": [
       "<div>\n",
       "<style scoped>\n",
       "    .dataframe tbody tr th:only-of-type {\n",
       "        vertical-align: middle;\n",
       "    }\n",
       "\n",
       "    .dataframe tbody tr th {\n",
       "        vertical-align: top;\n",
       "    }\n",
       "\n",
       "    .dataframe thead th {\n",
       "        text-align: right;\n",
       "    }\n",
       "</style>\n",
       "<table border=\"1\" class=\"dataframe\">\n",
       "  <thead>\n",
       "    <tr style=\"text-align: right;\">\n",
       "      <th></th>\n",
       "      <th>count</th>\n",
       "      <th>sum</th>\n",
       "    </tr>\n",
       "    <tr>\n",
       "      <th>Mapped output</th>\n",
       "      <th></th>\n",
       "      <th></th>\n",
       "    </tr>\n",
       "  </thead>\n",
       "  <tbody>\n",
       "    <tr>\n",
       "      <th>Health</th>\n",
       "      <td>0</td>\n",
       "      <td>0.0</td>\n",
       "    </tr>\n",
       "    <tr>\n",
       "      <th>News, Search and Messaging</th>\n",
       "      <td>1</td>\n",
       "      <td>15000000.0</td>\n",
       "    </tr>\n",
       "  </tbody>\n",
       "</table>\n",
       "</div>"
      ],
      "text/plain": [
       "                            count         sum\n",
       "Mapped output                                \n",
       "Health                          0         0.0\n",
       "News, Search and Messaging      1  15000000.0"
      ]
     },
     "execution_count": 69,
     "metadata": {},
     "output_type": "execute_result"
    }
   ],
   "source": [
    "# BMU\n",
    "d1.pivot_table(values = 'raised_amount_usd',index = ['Mapped output'], aggfunc = {'sum','count'})"
   ]
  },
  {
   "cell_type": "code",
   "execution_count": 70,
   "metadata": {},
   "outputs": [
    {
     "data": {
      "text/plain": [
       "Mapped output\n",
       "News, Search and Messaging    1\n",
       "Health                        0\n",
       "Name: raised_amount_usd, dtype: int64"
      ]
     },
     "execution_count": 70,
     "metadata": {},
     "output_type": "execute_result"
    }
   ],
   "source": [
    "d1.groupby('Mapped output')['raised_amount_usd'].count().sort_values(ascending=False)"
   ]
  },
  {
   "cell_type": "code",
   "execution_count": 71,
   "metadata": {},
   "outputs": [
    {
     "data": {
      "text/plain": [
       "10"
      ]
     },
     "execution_count": 71,
     "metadata": {},
     "output_type": "execute_result"
    }
   ],
   "source": [
    "d2['raised_amount_usd'].count()"
   ]
  },
  {
   "cell_type": "code",
   "execution_count": 72,
   "metadata": {},
   "outputs": [
    {
     "data": {
      "text/plain": [
       "88000000.0"
      ]
     },
     "execution_count": 72,
     "metadata": {},
     "output_type": "execute_result"
    }
   ],
   "source": [
    "d2['raised_amount_usd'].sum()"
   ]
  },
  {
   "cell_type": "code",
   "execution_count": 73,
   "metadata": {},
   "outputs": [
    {
     "data": {
      "text/plain": [
       "9000000.0"
      ]
     },
     "execution_count": 73,
     "metadata": {},
     "output_type": "execute_result"
    }
   ],
   "source": [
    "d2['raised_amount_usd'].median()"
   ]
  },
  {
   "cell_type": "code",
   "execution_count": 74,
   "metadata": {},
   "outputs": [
    {
     "data": {
      "text/plain": [
       "8800000.0"
      ]
     },
     "execution_count": 74,
     "metadata": {},
     "output_type": "execute_result"
    }
   ],
   "source": [
    "d2['raised_amount_usd'].mean()"
   ]
  },
  {
   "cell_type": "code",
   "execution_count": 75,
   "metadata": {},
   "outputs": [
    {
     "data": {
      "text/html": [
       "<div>\n",
       "<style scoped>\n",
       "    .dataframe tbody tr th:only-of-type {\n",
       "        vertical-align: middle;\n",
       "    }\n",
       "\n",
       "    .dataframe tbody tr th {\n",
       "        vertical-align: top;\n",
       "    }\n",
       "\n",
       "    .dataframe thead th {\n",
       "        text-align: right;\n",
       "    }\n",
       "</style>\n",
       "<table border=\"1\" class=\"dataframe\">\n",
       "  <thead>\n",
       "    <tr style=\"text-align: right;\">\n",
       "      <th></th>\n",
       "      <th>count</th>\n",
       "      <th>sum</th>\n",
       "    </tr>\n",
       "    <tr>\n",
       "      <th>Mapped output</th>\n",
       "      <th></th>\n",
       "      <th></th>\n",
       "    </tr>\n",
       "  </thead>\n",
       "  <tbody>\n",
       "    <tr>\n",
       "      <th>Blanks</th>\n",
       "      <td>0</td>\n",
       "      <td>0.0</td>\n",
       "    </tr>\n",
       "    <tr>\n",
       "      <th>Entertainment</th>\n",
       "      <td>0</td>\n",
       "      <td>0.0</td>\n",
       "    </tr>\n",
       "    <tr>\n",
       "      <th>Manufacturing</th>\n",
       "      <td>0</td>\n",
       "      <td>0.0</td>\n",
       "    </tr>\n",
       "    <tr>\n",
       "      <th>News, Search and Messaging</th>\n",
       "      <td>2</td>\n",
       "      <td>17000000.0</td>\n",
       "    </tr>\n",
       "    <tr>\n",
       "      <th>Others</th>\n",
       "      <td>1</td>\n",
       "      <td>10000000.0</td>\n",
       "    </tr>\n",
       "    <tr>\n",
       "      <th>Social, Finance, Analytics, Advertising</th>\n",
       "      <td>2</td>\n",
       "      <td>12000000.0</td>\n",
       "    </tr>\n",
       "  </tbody>\n",
       "</table>\n",
       "</div>"
      ],
      "text/plain": [
       "                                         count         sum\n",
       "Mapped output                                             \n",
       "Blanks                                       0         0.0\n",
       "Entertainment                                0         0.0\n",
       "Manufacturing                                0         0.0\n",
       "News, Search and Messaging                   2  17000000.0\n",
       "Others                                       1  10000000.0\n",
       "Social, Finance, Analytics, Advertising      2  12000000.0"
      ]
     },
     "execution_count": 75,
     "metadata": {},
     "output_type": "execute_result"
    }
   ],
   "source": [
    "# NGA\n",
    "d2.pivot_table(values = 'raised_amount_usd',index = ['Mapped output'], aggfunc = {'sum','count'})"
   ]
  },
  {
   "cell_type": "code",
   "execution_count": 76,
   "metadata": {},
   "outputs": [
    {
     "data": {
      "text/plain": [
       "Mapped output\n",
       "Social, Finance, Analytics, Advertising    2\n",
       "News, Search and Messaging                 2\n",
       "Others                                     1\n",
       "Manufacturing                              0\n",
       "Entertainment                              0\n",
       "Blanks                                     0\n",
       "Name: raised_amount_usd, dtype: int64"
      ]
     },
     "execution_count": 76,
     "metadata": {},
     "output_type": "execute_result"
    }
   ],
   "source": [
    "d2.groupby('Mapped output')['raised_amount_usd'].count().sort_values(ascending=False)"
   ]
  },
  {
   "cell_type": "code",
   "execution_count": 77,
   "metadata": {},
   "outputs": [
    {
     "data": {
      "text/plain": [
       "3"
      ]
     },
     "execution_count": 77,
     "metadata": {},
     "output_type": "execute_result"
    }
   ],
   "source": [
    "d3['raised_amount_usd'].count()"
   ]
  },
  {
   "cell_type": "code",
   "execution_count": 78,
   "metadata": {},
   "outputs": [
    {
     "data": {
      "text/plain": [
       "8816666.666666666"
      ]
     },
     "execution_count": 78,
     "metadata": {},
     "output_type": "execute_result"
    }
   ],
   "source": [
    "d3['raised_amount_usd'].mean()"
   ]
  },
  {
   "cell_type": "code",
   "execution_count": 79,
   "metadata": {},
   "outputs": [
    {
     "data": {
      "text/plain": [
       "26450000.0"
      ]
     },
     "execution_count": 79,
     "metadata": {},
     "output_type": "execute_result"
    }
   ],
   "source": [
    "d3['raised_amount_usd'].sum()"
   ]
  },
  {
   "cell_type": "code",
   "execution_count": 80,
   "metadata": {},
   "outputs": [
    {
     "data": {
      "text/plain": [
       "7000000.0"
      ]
     },
     "execution_count": 80,
     "metadata": {},
     "output_type": "execute_result"
    }
   ],
   "source": [
    "d3['raised_amount_usd'].median()"
   ]
  },
  {
   "cell_type": "code",
   "execution_count": 81,
   "metadata": {},
   "outputs": [
    {
     "data": {
      "text/html": [
       "<div>\n",
       "<style scoped>\n",
       "    .dataframe tbody tr th:only-of-type {\n",
       "        vertical-align: middle;\n",
       "    }\n",
       "\n",
       "    .dataframe tbody tr th {\n",
       "        vertical-align: top;\n",
       "    }\n",
       "\n",
       "    .dataframe thead th {\n",
       "        text-align: right;\n",
       "    }\n",
       "</style>\n",
       "<table border=\"1\" class=\"dataframe\">\n",
       "  <thead>\n",
       "    <tr style=\"text-align: right;\">\n",
       "      <th></th>\n",
       "      <th>count</th>\n",
       "      <th>sum</th>\n",
       "    </tr>\n",
       "    <tr>\n",
       "      <th>Mapped output</th>\n",
       "      <th></th>\n",
       "      <th></th>\n",
       "    </tr>\n",
       "  </thead>\n",
       "  <tbody>\n",
       "    <tr>\n",
       "      <th>Cleantech / Semiconductors</th>\n",
       "      <td>2</td>\n",
       "      <td>14000000.0</td>\n",
       "    </tr>\n",
       "    <tr>\n",
       "      <th>Others</th>\n",
       "      <td>0</td>\n",
       "      <td>0.0</td>\n",
       "    </tr>\n",
       "  </tbody>\n",
       "</table>\n",
       "</div>"
      ],
      "text/plain": [
       "                            count         sum\n",
       "Mapped output                                \n",
       "Cleantech / Semiconductors      2  14000000.0\n",
       "Others                          0         0.0"
      ]
     },
     "execution_count": 81,
     "metadata": {},
     "output_type": "execute_result"
    }
   ],
   "source": [
    "#TAN\n",
    "d3.pivot_table(values = 'raised_amount_usd',index = ['Mapped output'], aggfunc = {'sum','count'})"
   ]
  },
  {
   "cell_type": "code",
   "execution_count": 82,
   "metadata": {},
   "outputs": [
    {
     "data": {
      "text/plain": [
       "Mapped output\n",
       "Cleantech / Semiconductors    2\n",
       "Others                        0\n",
       "Name: raised_amount_usd, dtype: int64"
      ]
     },
     "execution_count": 82,
     "metadata": {},
     "output_type": "execute_result"
    }
   ],
   "source": [
    "d3.groupby('Mapped output')['raised_amount_usd'].count().sort_values(ascending=False)"
   ]
  },
  {
   "cell_type": "markdown",
   "metadata": {},
   "source": [
    "Problem 6: Plots\n",
    "As a final step, you have to present your findings to the CEO of Teclov. Specifically,\n",
    "she wants to see the following plots: "
   ]
  },
  {
   "cell_type": "code",
   "execution_count": 83,
   "metadata": {},
   "outputs": [
    {
     "data": {
      "image/png": "[encoded data removed]",
      "text/plain": [
       "<Figure size 1440x720 with 2 Axes>"
      ]
     },
     "metadata": {
      "needs_background": "light"
     },
     "output_type": "display_data"
    }
   ],
   "source": [
    "# BMU\n",
    "import matplotlib.pyplot as plt\n",
    "import seaborn as sns\n",
    "plt.figure(figsize=(20,10))\n",
    "plt.subplot(1, 2, 1)\n",
    "sns.countplot(y=\"Mapped output\", data=d1)\n",
    "plt.title(\"Count\")\n",
    "plt.subplot(1, 2, 2)\n",
    "sns.barplot(y=\"Mapped output\", x=\"raised_amount_usd\", data=d1, estimator=sum)\n",
    "plt.title(\"Sum\")\n",
    "plt.show()"
   ]
  },
  {
   "cell_type": "code",
   "execution_count": 84,
   "metadata": {},
   "outputs": [
    {
     "data": {
      "image/png": "[encoded data removed]",
      "text/plain": [
       "<Figure size 1440x720 with 2 Axes>"
      ]
     },
     "metadata": {
      "needs_background": "light"
     },
     "output_type": "display_data"
    }
   ],
   "source": [
    "#NGA\n",
    "plt.figure(figsize=(20, 10))\n",
    "plt.subplot(1, 2, 1)\n",
    "sns.countplot(y=\"Mapped output\", data=d2)\n",
    "plt.title(\"Count\")\n",
    "plt.subplot(1, 2, 2)\n",
    "sns.barplot(y=\"Mapped output\", x=\"raised_amount_usd\", data=d2, estimator=sum)\n",
    "plt.title(\"Sum\")\n",
    "plt.show()"
   ]
  },
  {
   "cell_type": "code",
   "execution_count": 85,
   "metadata": {},
   "outputs": [
    {
     "data": {
      "image/png": "[encoded data removed]",
      "text/plain": [
       "<Figure size 1440x720 with 2 Axes>"
      ]
     },
     "metadata": {
      "needs_background": "light"
     },
     "output_type": "display_data"
    }
   ],
   "source": [
    "#TAN\n",
    "plt.figure(figsize=(20, 10))\n",
    "plt.subplot(1, 2, 1)\n",
    "sns.countplot(y=\"Mapped output\", data=d3)\n",
    "plt.title(\"Count\")\n",
    "plt.subplot(1, 2, 2)\n",
    "sns.barplot(y=\"Mapped output\", x=\"raised_amount_usd\", data=d3, estimator=sum)\n",
    "plt.title(\"Sum\")\n",
    "plt.show()"
   ]
  },
  {
   "cell_type": "code",
   "execution_count": 86,
   "metadata": {},
   "outputs": [
    {
     "data": {
      "image/png": "[encoded data removed]",
      "text/plain": [
       "<Figure size 864x576 with 1 Axes>"
      ]
     },
     "metadata": {
      "needs_background": "light"
     },
     "output_type": "display_data"
    },
    {
     "name": "stdout",
     "output_type": "stream",
     "text": [
      "              raised_amount_usd\n",
      "country_code                   \n",
      "NGA                  76000000.0\n",
      "TAN                  19450000.0\n",
      "BMU                  15000000.0 \n",
      "\n",
      "Top 3 english speaking countries in order are: BMU,NGU ,TAN\n"
     ]
    }
   ],
   "source": [
    "top9 = master_frame[master_frame['funding_round_type']=='venture'].groupby('country_code').sum().sort_values('raised_amount_usd', ascending=False).head(9)\n",
    "plt.figure(figsize=(12, 8))\n",
    "sns.barplot(x=top9.index, y=top9.values.ravel())\n",
    "plt.show()\n",
    "\n",
    "print(top9, '\\n')\n",
    "print(\"Top 3 english speaking countries in order are: BMU,NGU ,TAN\")"
   ]
  },
  {
   "cell_type": "code",
   "execution_count": null,
   "metadata": {},
   "outputs": [],
   "source": [
    "#### Based on the data analysis performed, SparksFunds should invest in -\n",
    "\n",
    "Funding type - Venture\n",
    "Countries - NGA, TAN and BMU, respectively"
   ]
  },
  {
   "cell_type": "markdown",
   "metadata": {},
   "source": [
    "○ Investment type analysis: Venture is best suited funding type for their strategy.\n",
    "○ Country analysis: NGA, TAN and BMU are the countries who more in the past. These countries are Teclov’ favourites as well.\n",
    "○ Sector analysis: 'Others' most invested sector"
   ]
  }
 ],
 "metadata": {
  "kernelspec": {
   "display_name": "Python 3",
   "language": "python",
   "name": "python3"
  },
  "language_info": {
   "codemirror_mode": {
    "name": "ipython",
    "version": 3
   },
   "file_extension": ".py",
   "mimetype": "text/x-python",
   "name": "python",
   "nbconvert_exporter": "python",
   "pygments_lexer": "ipython3",
   "version": "3.8.5"
  }
 },
 "nbformat": 4,
 "nbformat_minor": 4
}
